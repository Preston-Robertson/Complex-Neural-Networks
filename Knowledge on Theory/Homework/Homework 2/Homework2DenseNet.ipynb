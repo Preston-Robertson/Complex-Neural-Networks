{
 "cells": [
  {
   "cell_type": "markdown",
   "id": "ad0c7d86",
   "metadata": {},
   "source": [
    "# Homework 2 DenseNet121"
   ]
  },
  {
   "cell_type": "markdown",
   "id": "69e9c761",
   "metadata": {},
   "source": [
    "## Loading Libraries"
   ]
  },
  {
   "cell_type": "code",
   "execution_count": 1,
   "id": "4a8839a6",
   "metadata": {},
   "outputs": [],
   "source": [
    "# Importing Libraries\n",
    "\n",
    "\n",
    "\n",
    "# Basic Libraries #############################################################################\n",
    "import pandas as pd\n",
    "import numpy as np\n",
    "import matplotlib.pyplot as plt\n",
    "import os \n",
    "import seaborn as sns\n",
    "import datetime\n",
    "import time\n",
    "\n",
    "\n",
    "# For Feature Engineering #####################################################################\n",
    "\n",
    "\n",
    "# For Machine Learning Techniques #############################################################\n",
    "import tensorflow as tf\n",
    "from tensorflow import keras\n",
    "from tensorflow.keras import layers\n",
    "from tensorflow.keras.datasets import cifar10\n",
    "\n",
    "from tensorflow.keras.applications import DenseNet121\n",
    "from tensorflow.keras.applications.densenet import preprocess_input\n",
    "\n",
    "\n",
    "# For Data Anaylsis ###########################################################################\n",
    "from sklearn.model_selection import train_test_split\n",
    "from sklearn.metrics import classification_report, confusion_matrix\n",
    "\n",
    "\n",
    "# Personal Preference #########################################################################\n",
    "import warnings\n",
    "warnings.filterwarnings('ignore')"
   ]
  },
  {
   "cell_type": "markdown",
   "id": "527fdebd",
   "metadata": {},
   "source": [
    "from tensorflow.keras.preprocessing import image\n",
    "from tensorflow.keras.preprocessing.image import ImageDataGenerator,img_to_array\n",
    "\n",
    "from tensorflow.keras.models import Model\n",
    "from tensorflow.keras.optimizers import Adam\n",
    "from tensorflow.keras.callbacks import ModelCheckpoint, ReduceLROnPlateau\n",
    "\n",
    "from tensorflow.keras.layers import Dense,GlobalAveragePooling2D,Convolution2D,BatchNormalization\n",
    "from tensorflow.keras.layers import Flatten,MaxPooling2D,Dropout"
   ]
  },
  {
   "cell_type": "markdown",
   "id": "9b86aa2a",
   "metadata": {},
   "source": [
    "### Setting GPU"
   ]
  },
  {
   "cell_type": "code",
   "execution_count": 2,
   "id": "b136aab5",
   "metadata": {},
   "outputs": [
    {
     "name": "stdout",
     "output_type": "stream",
     "text": [
      "[name: \"/device:CPU:0\"\n",
      "device_type: \"CPU\"\n",
      "memory_limit: 268435456\n",
      "locality {\n",
      "}\n",
      "incarnation: 8540945073665682338\n",
      "xla_global_id: -1\n",
      ", name: \"/device:GPU:0\"\n",
      "device_type: \"GPU\"\n",
      "memory_limit: 6273040384\n",
      "locality {\n",
      "  bus_id: 1\n",
      "  links {\n",
      "  }\n",
      "}\n",
      "incarnation: 3211552831913502720\n",
      "physical_device_desc: \"device: 0, name: NVIDIA GeForce RTX 2070 SUPER, pci bus id: 0000:02:00.0, compute capability: 7.5\"\n",
      "xla_global_id: 416903419\n",
      "]\n"
     ]
    }
   ],
   "source": [
    "# Change to markdown if gpu is not set up\n",
    "\n",
    "import os\n",
    "\n",
    "os.environ[\"TF_CPP_MIN_LOG_LEVEL\"] = \"2\"\n",
    "from tensorflow.python.client import device_lib\n",
    "print(device_lib.list_local_devices())\n",
    "\n",
    "physical_devices = tf.config.list_physical_devices(\"GPU\")\n",
    "tf.config.experimental.set_memory_growth(physical_devices[0], True)\n"
   ]
  },
  {
   "cell_type": "markdown",
   "id": "091c015d",
   "metadata": {},
   "source": [
    "## Loading Data"
   ]
  },
  {
   "cell_type": "code",
   "execution_count": 3,
   "id": "d0b2b914",
   "metadata": {},
   "outputs": [],
   "source": [
    "# Setting Class Names\n",
    "\n",
    "class_names=['airplane','automobile','bird','cat','deer',\n",
    "             'dog','frog','horse','ship','truck']\n"
   ]
  },
  {
   "cell_type": "code",
   "execution_count": 4,
   "id": "07a7f6f0",
   "metadata": {},
   "outputs": [],
   "source": [
    "# Loading the Dataset\n",
    "\n",
    "(x_train,y_train),(x_test,y_test)=cifar10.load_data()"
   ]
  },
  {
   "cell_type": "code",
   "execution_count": 5,
   "id": "f35863a1",
   "metadata": {},
   "outputs": [
    {
     "name": "stdout",
     "output_type": "stream",
     "text": [
      "(50000, 32, 32, 3)\n",
      "(10000, 32, 32, 3)\n"
     ]
    }
   ],
   "source": [
    "# Normalizing the Images\n",
    "\n",
    "x_train=x_train/255.0\n",
    "print(x_train.shape)\n",
    "\n",
    "x_test=x_test/255.0\n",
    "print(x_test.shape)\n"
   ]
  },
  {
   "cell_type": "markdown",
   "id": "8d1ac9e5",
   "metadata": {},
   "source": [
    "## Splitting the Data"
   ]
  },
  {
   "cell_type": "code",
   "execution_count": 6,
   "id": "ae29b148",
   "metadata": {},
   "outputs": [],
   "source": [
    "# 10% of the Orginal Dataset\n",
    "\n",
    "x_train10, not_needed1, y_train10, not_needed2 = train_test_split(\n",
    "    x_train, y_train, test_size=0.90, random_state=42)"
   ]
  },
  {
   "cell_type": "code",
   "execution_count": 7,
   "id": "adda08bd",
   "metadata": {},
   "outputs": [],
   "source": [
    "# 50% of the Orginal Dataset\n",
    "\n",
    "x_train50, not_needed1, y_train50, not_needed2 = train_test_split(\n",
    "    x_train, y_train, test_size=0.50, random_state=42)"
   ]
  },
  {
   "cell_type": "code",
   "execution_count": 8,
   "id": "53d9fc85",
   "metadata": {},
   "outputs": [],
   "source": [
    "# 80% of the Orginal Dataset (redundant)\n",
    "\n",
    "x_train80, not_needed1, y_train80, not_needed2 = train_test_split(\n",
    "    x_train, y_train, test_size=0.20, random_state=42)"
   ]
  },
  {
   "cell_type": "markdown",
   "id": "2c000904",
   "metadata": {},
   "source": [
    "## Setting up Models"
   ]
  },
  {
   "cell_type": "code",
   "execution_count": 9,
   "id": "47cd2674",
   "metadata": {},
   "outputs": [],
   "source": [
    "# Creating the actual model\n",
    "\n",
    "model_10 = tf.keras.applications.DenseNet121(\n",
    "    include_top=True,\n",
    "    weights=None,\n",
    "    input_tensor=None,\n",
    "    input_shape=(32, 32, 3),\n",
    "    pooling=None,\n",
    "    classes=1000,)\n",
    "\n",
    "\n"
   ]
  },
  {
   "cell_type": "code",
   "execution_count": 10,
   "id": "fb8338d0",
   "metadata": {},
   "outputs": [],
   "source": [
    "# Setting up Mutiple Models\n",
    "\n",
    "model_50 = model_10\n",
    "\n",
    "model_80 = model_10\n"
   ]
  },
  {
   "cell_type": "code",
   "execution_count": 11,
   "id": "6eb9bbaf",
   "metadata": {},
   "outputs": [],
   "source": [
    "# Model Compiling\n",
    "\n",
    "model_10.compile(loss=\"sparse_categorical_crossentropy\", \n",
    "                      optimizer=\"Adam\", metrics=[\"sparse_categorical_accuracy\"])\n",
    "\n",
    "model_50.compile(loss=\"sparse_categorical_crossentropy\", \n",
    "                      optimizer=\"Adam\", metrics=[\"sparse_categorical_accuracy\"])\n",
    "\n",
    "model_80.compile(loss=\"sparse_categorical_crossentropy\", \n",
    "                      optimizer=\"Adam\", metrics=[\"sparse_categorical_accuracy\"])\n"
   ]
  },
  {
   "cell_type": "markdown",
   "id": "050b832f",
   "metadata": {},
   "source": [
    "## Training the Models"
   ]
  },
  {
   "cell_type": "code",
   "execution_count": 12,
   "id": "4dd224bd",
   "metadata": {},
   "outputs": [
    {
     "name": "stdout",
     "output_type": "stream",
     "text": [
      "Epoch 1/25\n",
      "125/125 [==============================] - 25s 102ms/step - loss: 2.1293 - sparse_categorical_accuracy: 0.2977 - val_loss: 2.8671 - val_sparse_categorical_accuracy: 0.1000\n",
      "Epoch 2/25\n",
      "125/125 [==============================] - 10s 83ms/step - loss: 1.7252 - sparse_categorical_accuracy: 0.3710 - val_loss: 4.1474 - val_sparse_categorical_accuracy: 0.0990\n",
      "Epoch 3/25\n",
      "125/125 [==============================] - 10s 84ms/step - loss: 1.5500 - sparse_categorical_accuracy: 0.4310 - val_loss: 3.3151 - val_sparse_categorical_accuracy: 0.1910\n",
      "Epoch 4/25\n",
      "125/125 [==============================] - 11s 87ms/step - loss: 1.4245 - sparse_categorical_accuracy: 0.4697 - val_loss: 1.6720 - val_sparse_categorical_accuracy: 0.4000\n",
      "Epoch 5/25\n",
      " 79/125 [=================>............] - ETA: 3s - loss: 1.3120 - sparse_categorical_accuracy: 0.5320"
     ]
    },
    {
     "ename": "KeyboardInterrupt",
     "evalue": "",
     "output_type": "error",
     "traceback": [
      "\u001b[1;31m---------------------------------------------------------------------------\u001b[0m",
      "\u001b[1;31mKeyboardInterrupt\u001b[0m                         Traceback (most recent call last)",
      "\u001b[1;32mC:\\Users\\PRESTO~1\\AppData\\Local\\Temp/ipykernel_60632/1260792919.py\u001b[0m in \u001b[0;36m<module>\u001b[1;34m\u001b[0m\n\u001b[0;32m      1\u001b[0m \u001b[1;31m# Fitting the 10% Model\u001b[0m\u001b[1;33m\u001b[0m\u001b[1;33m\u001b[0m\u001b[0m\n\u001b[0;32m      2\u001b[0m \u001b[1;33m\u001b[0m\u001b[0m\n\u001b[1;32m----> 3\u001b[1;33m \u001b[0mmodel_10\u001b[0m\u001b[1;33m.\u001b[0m\u001b[0mfit\u001b[0m\u001b[1;33m(\u001b[0m\u001b[0mx_train10\u001b[0m\u001b[1;33m,\u001b[0m\u001b[0my_train10\u001b[0m\u001b[1;33m,\u001b[0m\u001b[0mepochs\u001b[0m\u001b[1;33m=\u001b[0m\u001b[1;36m25\u001b[0m\u001b[1;33m,\u001b[0m \u001b[0mbatch_size\u001b[0m\u001b[1;33m=\u001b[0m\u001b[1;36m32\u001b[0m\u001b[1;33m,\u001b[0m \u001b[0mvalidation_split\u001b[0m\u001b[1;33m=\u001b[0m\u001b[1;36m0.2\u001b[0m\u001b[1;33m)\u001b[0m\u001b[1;33m\u001b[0m\u001b[1;33m\u001b[0m\u001b[0m\n\u001b[0m\u001b[0;32m      4\u001b[0m \u001b[1;31m#history10 = model_10.fit(x_train10,y_train10,epochs=25, batch_size=32, validation_split=0.2)\u001b[0m\u001b[1;33m\u001b[0m\u001b[1;33m\u001b[0m\u001b[0m\n",
      "\u001b[1;32m~\\anaconda3\\lib\\site-packages\\keras\\utils\\traceback_utils.py\u001b[0m in \u001b[0;36merror_handler\u001b[1;34m(*args, **kwargs)\u001b[0m\n\u001b[0;32m     62\u001b[0m     \u001b[0mfiltered_tb\u001b[0m \u001b[1;33m=\u001b[0m \u001b[1;32mNone\u001b[0m\u001b[1;33m\u001b[0m\u001b[1;33m\u001b[0m\u001b[0m\n\u001b[0;32m     63\u001b[0m     \u001b[1;32mtry\u001b[0m\u001b[1;33m:\u001b[0m\u001b[1;33m\u001b[0m\u001b[1;33m\u001b[0m\u001b[0m\n\u001b[1;32m---> 64\u001b[1;33m       \u001b[1;32mreturn\u001b[0m \u001b[0mfn\u001b[0m\u001b[1;33m(\u001b[0m\u001b[1;33m*\u001b[0m\u001b[0margs\u001b[0m\u001b[1;33m,\u001b[0m \u001b[1;33m**\u001b[0m\u001b[0mkwargs\u001b[0m\u001b[1;33m)\u001b[0m\u001b[1;33m\u001b[0m\u001b[1;33m\u001b[0m\u001b[0m\n\u001b[0m\u001b[0;32m     65\u001b[0m     \u001b[1;32mexcept\u001b[0m \u001b[0mException\u001b[0m \u001b[1;32mas\u001b[0m \u001b[0me\u001b[0m\u001b[1;33m:\u001b[0m  \u001b[1;31m# pylint: disable=broad-except\u001b[0m\u001b[1;33m\u001b[0m\u001b[1;33m\u001b[0m\u001b[0m\n\u001b[0;32m     66\u001b[0m       \u001b[0mfiltered_tb\u001b[0m \u001b[1;33m=\u001b[0m \u001b[0m_process_traceback_frames\u001b[0m\u001b[1;33m(\u001b[0m\u001b[0me\u001b[0m\u001b[1;33m.\u001b[0m\u001b[0m__traceback__\u001b[0m\u001b[1;33m)\u001b[0m\u001b[1;33m\u001b[0m\u001b[1;33m\u001b[0m\u001b[0m\n",
      "\u001b[1;32m~\\anaconda3\\lib\\site-packages\\keras\\engine\\training.py\u001b[0m in \u001b[0;36mfit\u001b[1;34m(self, x, y, batch_size, epochs, verbose, callbacks, validation_split, validation_data, shuffle, class_weight, sample_weight, initial_epoch, steps_per_epoch, validation_steps, validation_batch_size, validation_freq, max_queue_size, workers, use_multiprocessing)\u001b[0m\n\u001b[0;32m   1382\u001b[0m                 _r=1):\n\u001b[0;32m   1383\u001b[0m               \u001b[0mcallbacks\u001b[0m\u001b[1;33m.\u001b[0m\u001b[0mon_train_batch_begin\u001b[0m\u001b[1;33m(\u001b[0m\u001b[0mstep\u001b[0m\u001b[1;33m)\u001b[0m\u001b[1;33m\u001b[0m\u001b[1;33m\u001b[0m\u001b[0m\n\u001b[1;32m-> 1384\u001b[1;33m               \u001b[0mtmp_logs\u001b[0m \u001b[1;33m=\u001b[0m \u001b[0mself\u001b[0m\u001b[1;33m.\u001b[0m\u001b[0mtrain_function\u001b[0m\u001b[1;33m(\u001b[0m\u001b[0miterator\u001b[0m\u001b[1;33m)\u001b[0m\u001b[1;33m\u001b[0m\u001b[1;33m\u001b[0m\u001b[0m\n\u001b[0m\u001b[0;32m   1385\u001b[0m               \u001b[1;32mif\u001b[0m \u001b[0mdata_handler\u001b[0m\u001b[1;33m.\u001b[0m\u001b[0mshould_sync\u001b[0m\u001b[1;33m:\u001b[0m\u001b[1;33m\u001b[0m\u001b[1;33m\u001b[0m\u001b[0m\n\u001b[0;32m   1386\u001b[0m                 \u001b[0mcontext\u001b[0m\u001b[1;33m.\u001b[0m\u001b[0masync_wait\u001b[0m\u001b[1;33m(\u001b[0m\u001b[1;33m)\u001b[0m\u001b[1;33m\u001b[0m\u001b[1;33m\u001b[0m\u001b[0m\n",
      "\u001b[1;32m~\\anaconda3\\lib\\site-packages\\tensorflow\\python\\util\\traceback_utils.py\u001b[0m in \u001b[0;36merror_handler\u001b[1;34m(*args, **kwargs)\u001b[0m\n\u001b[0;32m    148\u001b[0m     \u001b[0mfiltered_tb\u001b[0m \u001b[1;33m=\u001b[0m \u001b[1;32mNone\u001b[0m\u001b[1;33m\u001b[0m\u001b[1;33m\u001b[0m\u001b[0m\n\u001b[0;32m    149\u001b[0m     \u001b[1;32mtry\u001b[0m\u001b[1;33m:\u001b[0m\u001b[1;33m\u001b[0m\u001b[1;33m\u001b[0m\u001b[0m\n\u001b[1;32m--> 150\u001b[1;33m       \u001b[1;32mreturn\u001b[0m \u001b[0mfn\u001b[0m\u001b[1;33m(\u001b[0m\u001b[1;33m*\u001b[0m\u001b[0margs\u001b[0m\u001b[1;33m,\u001b[0m \u001b[1;33m**\u001b[0m\u001b[0mkwargs\u001b[0m\u001b[1;33m)\u001b[0m\u001b[1;33m\u001b[0m\u001b[1;33m\u001b[0m\u001b[0m\n\u001b[0m\u001b[0;32m    151\u001b[0m     \u001b[1;32mexcept\u001b[0m \u001b[0mException\u001b[0m \u001b[1;32mas\u001b[0m \u001b[0me\u001b[0m\u001b[1;33m:\u001b[0m\u001b[1;33m\u001b[0m\u001b[1;33m\u001b[0m\u001b[0m\n\u001b[0;32m    152\u001b[0m       \u001b[0mfiltered_tb\u001b[0m \u001b[1;33m=\u001b[0m \u001b[0m_process_traceback_frames\u001b[0m\u001b[1;33m(\u001b[0m\u001b[0me\u001b[0m\u001b[1;33m.\u001b[0m\u001b[0m__traceback__\u001b[0m\u001b[1;33m)\u001b[0m\u001b[1;33m\u001b[0m\u001b[1;33m\u001b[0m\u001b[0m\n",
      "\u001b[1;32m~\\anaconda3\\lib\\site-packages\\tensorflow\\python\\eager\\def_function.py\u001b[0m in \u001b[0;36m__call__\u001b[1;34m(self, *args, **kwds)\u001b[0m\n\u001b[0;32m    913\u001b[0m \u001b[1;33m\u001b[0m\u001b[0m\n\u001b[0;32m    914\u001b[0m       \u001b[1;32mwith\u001b[0m \u001b[0mOptionalXlaContext\u001b[0m\u001b[1;33m(\u001b[0m\u001b[0mself\u001b[0m\u001b[1;33m.\u001b[0m\u001b[0m_jit_compile\u001b[0m\u001b[1;33m)\u001b[0m\u001b[1;33m:\u001b[0m\u001b[1;33m\u001b[0m\u001b[1;33m\u001b[0m\u001b[0m\n\u001b[1;32m--> 915\u001b[1;33m         \u001b[0mresult\u001b[0m \u001b[1;33m=\u001b[0m \u001b[0mself\u001b[0m\u001b[1;33m.\u001b[0m\u001b[0m_call\u001b[0m\u001b[1;33m(\u001b[0m\u001b[1;33m*\u001b[0m\u001b[0margs\u001b[0m\u001b[1;33m,\u001b[0m \u001b[1;33m**\u001b[0m\u001b[0mkwds\u001b[0m\u001b[1;33m)\u001b[0m\u001b[1;33m\u001b[0m\u001b[1;33m\u001b[0m\u001b[0m\n\u001b[0m\u001b[0;32m    916\u001b[0m \u001b[1;33m\u001b[0m\u001b[0m\n\u001b[0;32m    917\u001b[0m       \u001b[0mnew_tracing_count\u001b[0m \u001b[1;33m=\u001b[0m \u001b[0mself\u001b[0m\u001b[1;33m.\u001b[0m\u001b[0mexperimental_get_tracing_count\u001b[0m\u001b[1;33m(\u001b[0m\u001b[1;33m)\u001b[0m\u001b[1;33m\u001b[0m\u001b[1;33m\u001b[0m\u001b[0m\n",
      "\u001b[1;32m~\\anaconda3\\lib\\site-packages\\tensorflow\\python\\eager\\def_function.py\u001b[0m in \u001b[0;36m_call\u001b[1;34m(self, *args, **kwds)\u001b[0m\n\u001b[0;32m    945\u001b[0m       \u001b[1;31m# In this case we have created variables on the first call, so we run the\u001b[0m\u001b[1;33m\u001b[0m\u001b[1;33m\u001b[0m\u001b[0m\n\u001b[0;32m    946\u001b[0m       \u001b[1;31m# defunned version which is guaranteed to never create variables.\u001b[0m\u001b[1;33m\u001b[0m\u001b[1;33m\u001b[0m\u001b[0m\n\u001b[1;32m--> 947\u001b[1;33m       \u001b[1;32mreturn\u001b[0m \u001b[0mself\u001b[0m\u001b[1;33m.\u001b[0m\u001b[0m_stateless_fn\u001b[0m\u001b[1;33m(\u001b[0m\u001b[1;33m*\u001b[0m\u001b[0margs\u001b[0m\u001b[1;33m,\u001b[0m \u001b[1;33m**\u001b[0m\u001b[0mkwds\u001b[0m\u001b[1;33m)\u001b[0m  \u001b[1;31m# pylint: disable=not-callable\u001b[0m\u001b[1;33m\u001b[0m\u001b[1;33m\u001b[0m\u001b[0m\n\u001b[0m\u001b[0;32m    948\u001b[0m     \u001b[1;32melif\u001b[0m \u001b[0mself\u001b[0m\u001b[1;33m.\u001b[0m\u001b[0m_stateful_fn\u001b[0m \u001b[1;32mis\u001b[0m \u001b[1;32mnot\u001b[0m \u001b[1;32mNone\u001b[0m\u001b[1;33m:\u001b[0m\u001b[1;33m\u001b[0m\u001b[1;33m\u001b[0m\u001b[0m\n\u001b[0;32m    949\u001b[0m       \u001b[1;31m# Release the lock early so that multiple threads can perform the call\u001b[0m\u001b[1;33m\u001b[0m\u001b[1;33m\u001b[0m\u001b[0m\n",
      "\u001b[1;32m~\\anaconda3\\lib\\site-packages\\tensorflow\\python\\eager\\function.py\u001b[0m in \u001b[0;36m__call__\u001b[1;34m(self, *args, **kwargs)\u001b[0m\n\u001b[0;32m   2954\u001b[0m       (graph_function,\n\u001b[0;32m   2955\u001b[0m        filtered_flat_args) = self._maybe_define_function(args, kwargs)\n\u001b[1;32m-> 2956\u001b[1;33m     return graph_function._call_flat(\n\u001b[0m\u001b[0;32m   2957\u001b[0m         filtered_flat_args, captured_inputs=graph_function.captured_inputs)  # pylint: disable=protected-access\n\u001b[0;32m   2958\u001b[0m \u001b[1;33m\u001b[0m\u001b[0m\n",
      "\u001b[1;32m~\\anaconda3\\lib\\site-packages\\tensorflow\\python\\eager\\function.py\u001b[0m in \u001b[0;36m_call_flat\u001b[1;34m(self, args, captured_inputs, cancellation_manager)\u001b[0m\n\u001b[0;32m   1851\u001b[0m         and executing_eagerly):\n\u001b[0;32m   1852\u001b[0m       \u001b[1;31m# No tape is watching; skip to running the function.\u001b[0m\u001b[1;33m\u001b[0m\u001b[1;33m\u001b[0m\u001b[0m\n\u001b[1;32m-> 1853\u001b[1;33m       return self._build_call_outputs(self._inference_function.call(\n\u001b[0m\u001b[0;32m   1854\u001b[0m           ctx, args, cancellation_manager=cancellation_manager))\n\u001b[0;32m   1855\u001b[0m     forward_backward = self._select_forward_and_backward_functions(\n",
      "\u001b[1;32m~\\anaconda3\\lib\\site-packages\\tensorflow\\python\\eager\\function.py\u001b[0m in \u001b[0;36mcall\u001b[1;34m(self, ctx, args, cancellation_manager)\u001b[0m\n\u001b[0;32m    497\u001b[0m       \u001b[1;32mwith\u001b[0m \u001b[0m_InterpolateFunctionError\u001b[0m\u001b[1;33m(\u001b[0m\u001b[0mself\u001b[0m\u001b[1;33m)\u001b[0m\u001b[1;33m:\u001b[0m\u001b[1;33m\u001b[0m\u001b[1;33m\u001b[0m\u001b[0m\n\u001b[0;32m    498\u001b[0m         \u001b[1;32mif\u001b[0m \u001b[0mcancellation_manager\u001b[0m \u001b[1;32mis\u001b[0m \u001b[1;32mNone\u001b[0m\u001b[1;33m:\u001b[0m\u001b[1;33m\u001b[0m\u001b[1;33m\u001b[0m\u001b[0m\n\u001b[1;32m--> 499\u001b[1;33m           outputs = execute.execute(\n\u001b[0m\u001b[0;32m    500\u001b[0m               \u001b[0mstr\u001b[0m\u001b[1;33m(\u001b[0m\u001b[0mself\u001b[0m\u001b[1;33m.\u001b[0m\u001b[0msignature\u001b[0m\u001b[1;33m.\u001b[0m\u001b[0mname\u001b[0m\u001b[1;33m)\u001b[0m\u001b[1;33m,\u001b[0m\u001b[1;33m\u001b[0m\u001b[1;33m\u001b[0m\u001b[0m\n\u001b[0;32m    501\u001b[0m               \u001b[0mnum_outputs\u001b[0m\u001b[1;33m=\u001b[0m\u001b[0mself\u001b[0m\u001b[1;33m.\u001b[0m\u001b[0m_num_outputs\u001b[0m\u001b[1;33m,\u001b[0m\u001b[1;33m\u001b[0m\u001b[1;33m\u001b[0m\u001b[0m\n",
      "\u001b[1;32m~\\anaconda3\\lib\\site-packages\\tensorflow\\python\\eager\\execute.py\u001b[0m in \u001b[0;36mquick_execute\u001b[1;34m(op_name, num_outputs, inputs, attrs, ctx, name)\u001b[0m\n\u001b[0;32m     52\u001b[0m   \u001b[1;32mtry\u001b[0m\u001b[1;33m:\u001b[0m\u001b[1;33m\u001b[0m\u001b[1;33m\u001b[0m\u001b[0m\n\u001b[0;32m     53\u001b[0m     \u001b[0mctx\u001b[0m\u001b[1;33m.\u001b[0m\u001b[0mensure_initialized\u001b[0m\u001b[1;33m(\u001b[0m\u001b[1;33m)\u001b[0m\u001b[1;33m\u001b[0m\u001b[1;33m\u001b[0m\u001b[0m\n\u001b[1;32m---> 54\u001b[1;33m     tensors = pywrap_tfe.TFE_Py_Execute(ctx._handle, device_name, op_name,\n\u001b[0m\u001b[0;32m     55\u001b[0m                                         inputs, attrs, num_outputs)\n\u001b[0;32m     56\u001b[0m   \u001b[1;32mexcept\u001b[0m \u001b[0mcore\u001b[0m\u001b[1;33m.\u001b[0m\u001b[0m_NotOkStatusException\u001b[0m \u001b[1;32mas\u001b[0m \u001b[0me\u001b[0m\u001b[1;33m:\u001b[0m\u001b[1;33m\u001b[0m\u001b[1;33m\u001b[0m\u001b[0m\n",
      "\u001b[1;31mKeyboardInterrupt\u001b[0m: "
     ]
    }
   ],
   "source": [
    "# Fitting the 10% Model\n",
    "\n",
    "model_10.fit(x_train10,y_train10,epochs=25, batch_size=32, validation_split=0.2)\n",
    "#history10 = model_10.fit(x_train10,y_train10,epochs=25, batch_size=32, validation_split=0.2)\n"
   ]
  },
  {
   "cell_type": "code",
   "execution_count": null,
   "id": "82fe2048",
   "metadata": {},
   "outputs": [],
   "source": [
    "# Fitting the 50% Model\n",
    "\n",
    "model_50.fit(x_train50,y_train50,epochs=25, batch_size=32, validation_split=0.2)\n",
    "#history50 = model_50.fit(x_train50,y_train50,epochs=25, batch_size=32, validation_split=0.2)\n"
   ]
  },
  {
   "cell_type": "code",
   "execution_count": 14,
   "id": "b5bfe38e",
   "metadata": {},
   "outputs": [
    {
     "name": "stdout",
     "output_type": "stream",
     "text": [
      "Epoch 1/25\n",
      "1000/1000 [==============================] - 75s 75ms/step - loss: 0.5142 - sparse_categorical_accuracy: 0.8465 - val_loss: 0.5194 - val_sparse_categorical_accuracy: 0.8328\n",
      "Epoch 2/25\n",
      "1000/1000 [==============================] - 66s 66ms/step - loss: 0.2670 - sparse_categorical_accuracy: 0.9132 - val_loss: 0.8483 - val_sparse_categorical_accuracy: 0.7550\n",
      "Epoch 3/25\n",
      "1000/1000 [==============================] - 66s 66ms/step - loss: 0.1871 - sparse_categorical_accuracy: 0.9354 - val_loss: 1.0471 - val_sparse_categorical_accuracy: 0.7290\n",
      "Epoch 4/25\n",
      "1000/1000 [==============================] - 65s 65ms/step - loss: 0.1455 - sparse_categorical_accuracy: 0.9506 - val_loss: 0.7504 - val_sparse_categorical_accuracy: 0.7970\n",
      "Epoch 5/25\n",
      "1000/1000 [==============================] - 68s 68ms/step - loss: 0.1210 - sparse_categorical_accuracy: 0.9590 - val_loss: 1.0309 - val_sparse_categorical_accuracy: 0.7558\n",
      "Epoch 6/25\n",
      "1000/1000 [==============================] - 65s 65ms/step - loss: 0.1163 - sparse_categorical_accuracy: 0.9593 - val_loss: 0.9084 - val_sparse_categorical_accuracy: 0.7846\n",
      "Epoch 7/25\n",
      "1000/1000 [==============================] - 66s 66ms/step - loss: 0.0912 - sparse_categorical_accuracy: 0.9685 - val_loss: 0.8923 - val_sparse_categorical_accuracy: 0.7968\n",
      "Epoch 8/25\n",
      "1000/1000 [==============================] - 67s 67ms/step - loss: 0.0928 - sparse_categorical_accuracy: 0.9678 - val_loss: 1.2350 - val_sparse_categorical_accuracy: 0.7335\n",
      "Epoch 9/25\n",
      "1000/1000 [==============================] - 81s 81ms/step - loss: 0.0869 - sparse_categorical_accuracy: 0.9699 - val_loss: 0.9269 - val_sparse_categorical_accuracy: 0.7884\n",
      "Epoch 10/25\n",
      "1000/1000 [==============================] - 71s 71ms/step - loss: 0.0770 - sparse_categorical_accuracy: 0.9734 - val_loss: 0.8906 - val_sparse_categorical_accuracy: 0.8089\n",
      "Epoch 11/25\n",
      "1000/1000 [==============================] - 66s 66ms/step - loss: 0.0808 - sparse_categorical_accuracy: 0.9729 - val_loss: 0.8408 - val_sparse_categorical_accuracy: 0.8062\n",
      "Epoch 12/25\n",
      "1000/1000 [==============================] - 65s 65ms/step - loss: 0.0726 - sparse_categorical_accuracy: 0.9751 - val_loss: 0.9230 - val_sparse_categorical_accuracy: 0.7937\n",
      "Epoch 13/25\n",
      "1000/1000 [==============================] - 65s 65ms/step - loss: 0.0705 - sparse_categorical_accuracy: 0.9759 - val_loss: 0.9507 - val_sparse_categorical_accuracy: 0.7881\n",
      "Epoch 14/25\n",
      "1000/1000 [==============================] - 64s 64ms/step - loss: 0.0664 - sparse_categorical_accuracy: 0.9771 - val_loss: 1.1564 - val_sparse_categorical_accuracy: 0.7659\n",
      "Epoch 15/25\n",
      "1000/1000 [==============================] - 65s 65ms/step - loss: 0.0567 - sparse_categorical_accuracy: 0.9803 - val_loss: 1.0516 - val_sparse_categorical_accuracy: 0.7989\n",
      "Epoch 16/25\n",
      "1000/1000 [==============================] - 65s 65ms/step - loss: 0.0677 - sparse_categorical_accuracy: 0.9764 - val_loss: 1.2900 - val_sparse_categorical_accuracy: 0.7604\n",
      "Epoch 17/25\n",
      "1000/1000 [==============================] - 65s 65ms/step - loss: 0.0501 - sparse_categorical_accuracy: 0.9827 - val_loss: 1.0839 - val_sparse_categorical_accuracy: 0.7843\n",
      "Epoch 18/25\n",
      "1000/1000 [==============================] - 64s 64ms/step - loss: 0.0643 - sparse_categorical_accuracy: 0.9784 - val_loss: 1.0430 - val_sparse_categorical_accuracy: 0.7824\n",
      "Epoch 19/25\n",
      "1000/1000 [==============================] - 67s 67ms/step - loss: 0.0547 - sparse_categorical_accuracy: 0.9817 - val_loss: 1.1560 - val_sparse_categorical_accuracy: 0.7794\n",
      "Epoch 20/25\n",
      "1000/1000 [==============================] - 65s 65ms/step - loss: 0.0513 - sparse_categorical_accuracy: 0.9825 - val_loss: 1.0055 - val_sparse_categorical_accuracy: 0.7976\n",
      "Epoch 21/25\n",
      "1000/1000 [==============================] - 65s 65ms/step - loss: 0.0479 - sparse_categorical_accuracy: 0.9839 - val_loss: 1.0299 - val_sparse_categorical_accuracy: 0.7983\n",
      "Epoch 22/25\n",
      "1000/1000 [==============================] - 64s 64ms/step - loss: 0.0536 - sparse_categorical_accuracy: 0.9824 - val_loss: 1.0672 - val_sparse_categorical_accuracy: 0.7829\n",
      "Epoch 23/25\n",
      "1000/1000 [==============================] - 64s 64ms/step - loss: 0.0427 - sparse_categorical_accuracy: 0.9862 - val_loss: 1.1263 - val_sparse_categorical_accuracy: 0.7832\n",
      "Epoch 24/25\n",
      "1000/1000 [==============================] - 64s 64ms/step - loss: 0.0510 - sparse_categorical_accuracy: 0.9829 - val_loss: 1.1432 - val_sparse_categorical_accuracy: 0.7861\n",
      "Epoch 25/25\n",
      "1000/1000 [==============================] - 65s 65ms/step - loss: 0.0431 - sparse_categorical_accuracy: 0.9849 - val_loss: 1.1585 - val_sparse_categorical_accuracy: 0.7844\n"
     ]
    }
   ],
   "source": [
    "# Fitting the 80% Model\n",
    "\n",
    "model_80.fit(x_train80,y_train80,epochs=25, batch_size=32, validation_split=0.2)\n",
    "#history80 = model_80.fit(x_train80,y_train80,epochs=25, batch_size=32, validation_split=0.2)\n"
   ]
  },
  {
   "cell_type": "markdown",
   "id": "9f41212c",
   "metadata": {},
   "source": [
    "## Plotting the Models"
   ]
  },
  {
   "cell_type": "code",
   "execution_count": 72,
   "id": "05b93a85",
   "metadata": {},
   "outputs": [
    {
     "data": {
      "text/html": [
       "<div>\n",
       "<style scoped>\n",
       "    .dataframe tbody tr th:only-of-type {\n",
       "        vertical-align: middle;\n",
       "    }\n",
       "\n",
       "    .dataframe tbody tr th {\n",
       "        vertical-align: top;\n",
       "    }\n",
       "\n",
       "    .dataframe thead th {\n",
       "        text-align: right;\n",
       "    }\n",
       "</style>\n",
       "<table border=\"1\" class=\"dataframe\">\n",
       "  <thead>\n",
       "    <tr style=\"text-align: right;\">\n",
       "      <th></th>\n",
       "      <th>0</th>\n",
       "    </tr>\n",
       "  </thead>\n",
       "  <tbody>\n",
       "    <tr>\n",
       "      <th>DenseNet121 10% Test error</th>\n",
       "      <td>0.2593</td>\n",
       "    </tr>\n",
       "    <tr>\n",
       "      <th>DenseNet121 50% Test error</th>\n",
       "      <td>0.2593</td>\n",
       "    </tr>\n",
       "    <tr>\n",
       "      <th>DenseNet121 80% Test error</th>\n",
       "      <td>0.2593</td>\n",
       "    </tr>\n",
       "  </tbody>\n",
       "</table>\n",
       "</div>"
      ],
      "text/plain": [
       "                                 0\n",
       "DenseNet121 10% Test error  0.2593\n",
       "DenseNet121 50% Test error  0.2593\n",
       "DenseNet121 80% Test error  0.2593"
      ]
     },
     "execution_count": 72,
     "metadata": {},
     "output_type": "execute_result"
    }
   ],
   "source": [
    "# Test Error\n",
    "\n",
    "temp={}\n",
    "temp1={}\n",
    "temp2={}\n",
    "\n",
    "score = model_10.evaluate(x_test, y_test, verbose=0)\n",
    "temp[\"DenseNet121 10% Test error\"] = 1-score[1]\n",
    "performance = pd.DataFrame([temp]).T\n",
    "\n",
    "score = model_50.evaluate(x_test, y_test, verbose=0)\n",
    "temp1[\"DenseNet121 50% Test error\"]=1-score[1]\n",
    "performance1 = pd.DataFrame([temp1]).T\n",
    "performance = performance.append(performance1)\n",
    "\n",
    "score = model_80.evaluate(x_test, y_test, verbose=0)\n",
    "temp2[\"DenseNet121 80% Test error\"]=1-score[1]\n",
    "performance2 = pd.DataFrame([temp2]).T\n",
    "performance = performance.append(performance2)\n",
    "\n",
    "performance"
   ]
  },
  {
   "cell_type": "code",
   "execution_count": 77,
   "id": "a5e2e792",
   "metadata": {},
   "outputs": [
    {
     "data": {
      "image/png": "[encoded data removed]",
      "text/plain": [
       "<Figure size 1800x360 with 1 Axes>"
      ]
     },
     "metadata": {
      "needs_background": "light"
     },
     "output_type": "display_data"
    }
   ],
   "source": [
    "# Plotting Bar Plot\n",
    "\n",
    "names = ('DenseNet121 10% Test error', 'DenseNet121 50% Test error',\n",
    "         'DenseNet121 80% Test error')\n",
    "\n",
    "values = (0.2593,0.2593,0.2593)\n",
    "\n",
    "fig = plt.figure(figsize = (25,5))\n",
    "plt.bar(names, values)\n",
    "plt.show()"
   ]
  },
  {
   "cell_type": "markdown",
   "id": "a8d75679",
   "metadata": {},
   "source": [
    "### Plotting the 10% Model\n",
    "\n",
    "plt.plot(history10.history['loss'])\n",
    "plt.title('Model 10% Top-1 Error')\n",
    "plt.ylabel('Loss')\n",
    "plt.xlabel('Epoch')\n",
    "plt.legend(['train'], loc = 'upper left')\n",
    "plt.show()\n",
    "\n",
    "### Plotting the 50% Model\n",
    "\n",
    "plt.plot(history50.history['loss'])\n",
    "plt.title('Model 50% Top-1 Error')\n",
    "plt.ylabel('Loss')\n",
    "plt.xlabel('Epoch')\n",
    "plt.legend(['train'], loc = 'upper left')\n",
    "plt.show()\n",
    "\n",
    "### Plotting the 80% Model\n",
    "\n",
    "plt.plot(history80.history['loss'])\n",
    "plt.title('Model 80% Top-1 Error')\n",
    "plt.ylabel('Loss')\n",
    "plt.xlabel('Epoch')\n",
    "plt.legend(['train'], loc = 'upper left')\n",
    "plt.show()"
   ]
  },
  {
   "cell_type": "markdown",
   "id": "58f07914",
   "metadata": {},
   "source": [
    "# Homework 2 My Model"
   ]
  },
  {
   "cell_type": "markdown",
   "id": "766f562b",
   "metadata": {},
   "source": [
    "## Setting up the Model"
   ]
  },
  {
   "cell_type": "code",
   "execution_count": 27,
   "id": "6c82678b",
   "metadata": {},
   "outputs": [
    {
     "name": "stdout",
     "output_type": "stream",
     "text": [
      "Model: \"sequential_2\"\n",
      "_________________________________________________________________\n",
      " Layer (type)                Output Shape              Param #   \n",
      "=================================================================\n",
      " conv2d_4 (Conv2D)           (None, 32, 32, 32)        896       \n",
      "                                                                 \n",
      " max_pooling2d_4 (MaxPooling  (None, 16, 16, 32)       0         \n",
      " 2D)                                                             \n",
      "                                                                 \n",
      " conv2d_5 (Conv2D)           (None, 16, 16, 64)        18496     \n",
      "                                                                 \n",
      " max_pooling2d_5 (MaxPooling  (None, 8, 8, 64)         0         \n",
      " 2D)                                                             \n",
      "                                                                 \n",
      " flatten_2 (Flatten)         (None, 4096)              0         \n",
      "                                                                 \n",
      " dropout_2 (Dropout)         (None, 4096)              0         \n",
      "                                                                 \n",
      " dense_4 (Dense)             (None, 128)               524416    \n",
      "                                                                 \n",
      " dense_5 (Dense)             (None, 10)                1290      \n",
      "                                                                 \n",
      "=================================================================\n",
      "Total params: 545,098\n",
      "Trainable params: 545,098\n",
      "Non-trainable params: 0\n",
      "_________________________________________________________________\n"
     ]
    }
   ],
   "source": [
    "# Designing the Model\n",
    "\n",
    "\n",
    "custom_model=tf.keras.models.Sequential()\n",
    "\n",
    "# Convultions ################################################################################\n",
    "\n",
    "# First Layer\n",
    "custom_model.add(tf.keras.layers.Conv2D(filters=32,kernel_size=3,padding=\"same\", \n",
    "                                         activation=\"relu\", input_shape=[32,32,3]))\n",
    "\n",
    "# Max Pooling Layer\n",
    "custom_model.add(tf.keras.layers.MaxPool2D(pool_size=2,strides=2,padding='valid'))\n",
    "\n",
    "# Third Layer\n",
    "custom_model.add(tf.keras.layers.Conv2D(filters=64,kernel_size=3,padding=\"same\", \n",
    "                                         activation=\"relu\"))\n",
    "\n",
    "# Max Pooling Layer\n",
    "custom_model.add(tf.keras.layers.MaxPool2D(pool_size=2,strides=2,padding='valid'))\n",
    "\n",
    "# Flattening Layer\n",
    "custom_model.add(tf.keras.layers.Flatten())\n",
    "\n",
    "# Droput Layer\n",
    "custom_model.add(tf.keras.layers.Dropout(0.5,noise_shape=None,seed=None))\n",
    "\n",
    "\n",
    "# Neural Network ##############################################################################\n",
    "\n",
    "# Adding the first fully connected layer\n",
    "custom_model.add(tf.keras.layers.Dense(units=128,activation='relu'))\n",
    "\n",
    "# Output Layer\n",
    "custom_model.add(tf.keras.layers.Dense(units=10,activation='softmax'))\n",
    "\n",
    "custom_model.summary()\n",
    "\n"
   ]
  },
  {
   "cell_type": "code",
   "execution_count": 29,
   "id": "69cf95c4",
   "metadata": {},
   "outputs": [],
   "source": [
    "# Setting up the Different Versions\n",
    "\n",
    "custom_model_10 = custom_model\n",
    "custom_model_50 = custom_model\n",
    "custom_model_80 = custom_model"
   ]
  },
  {
   "cell_type": "code",
   "execution_count": 30,
   "id": "2764fad0",
   "metadata": {},
   "outputs": [],
   "source": [
    "# Compiling Models\n",
    "\n",
    "custom_model_10.compile(loss=\"sparse_categorical_crossentropy\", \n",
    "                      optimizer=\"Adam\", metrics=[\"sparse_categorical_accuracy\"])\n",
    "\n",
    "custom_model_50.compile(loss=\"sparse_categorical_crossentropy\", \n",
    "                      optimizer=\"Adam\", metrics=[\"sparse_categorical_accuracy\"])\n",
    "\n",
    "custom_model_80.compile(loss=\"sparse_categorical_crossentropy\", \n",
    "                      optimizer=\"Adam\", metrics=[\"sparse_categorical_accuracy\"])"
   ]
  },
  {
   "cell_type": "markdown",
   "id": "c524b939",
   "metadata": {},
   "source": [
    "## Training My Models"
   ]
  },
  {
   "cell_type": "code",
   "execution_count": 43,
   "id": "2691785e",
   "metadata": {},
   "outputs": [
    {
     "name": "stdout",
     "output_type": "stream",
     "text": [
      "Epoch 1/25\n",
      "125/125 [==============================] - 1s 6ms/step - loss: 1.2872 - sparse_categorical_accuracy: 0.6367 - val_loss: 0.9469 - val_sparse_categorical_accuracy: 0.6790\n",
      "Epoch 2/25\n",
      "125/125 [==============================] - 0s 4ms/step - loss: 0.9378 - sparse_categorical_accuracy: 0.6905 - val_loss: 0.9234 - val_sparse_categorical_accuracy: 0.6890\n",
      "Epoch 3/25\n",
      "125/125 [==============================] - 0s 4ms/step - loss: 0.7558 - sparse_categorical_accuracy: 0.7442 - val_loss: 0.8971 - val_sparse_categorical_accuracy: 0.7130\n",
      "Epoch 4/25\n",
      "125/125 [==============================] - 1s 4ms/step - loss: 0.6541 - sparse_categorical_accuracy: 0.7740 - val_loss: 0.9213 - val_sparse_categorical_accuracy: 0.6970\n",
      "Epoch 5/25\n",
      "125/125 [==============================] - 0s 4ms/step - loss: 0.5543 - sparse_categorical_accuracy: 0.8012 - val_loss: 0.9280 - val_sparse_categorical_accuracy: 0.7070\n",
      "Epoch 6/25\n",
      "125/125 [==============================] - 0s 4ms/step - loss: 0.4811 - sparse_categorical_accuracy: 0.8267 - val_loss: 0.9431 - val_sparse_categorical_accuracy: 0.7010\n",
      "Epoch 7/25\n",
      "125/125 [==============================] - 0s 4ms/step - loss: 0.3989 - sparse_categorical_accuracy: 0.8575 - val_loss: 0.9496 - val_sparse_categorical_accuracy: 0.7000\n",
      "Epoch 8/25\n",
      "125/125 [==============================] - 0s 4ms/step - loss: 0.3476 - sparse_categorical_accuracy: 0.8723 - val_loss: 1.0057 - val_sparse_categorical_accuracy: 0.7000\n",
      "Epoch 9/25\n",
      "125/125 [==============================] - 1s 4ms/step - loss: 0.3260 - sparse_categorical_accuracy: 0.8827 - val_loss: 0.9781 - val_sparse_categorical_accuracy: 0.7170\n",
      "Epoch 10/25\n",
      "125/125 [==============================] - 1s 4ms/step - loss: 0.2742 - sparse_categorical_accuracy: 0.9107 - val_loss: 1.0438 - val_sparse_categorical_accuracy: 0.6970\n",
      "Epoch 11/25\n",
      "125/125 [==============================] - 1s 4ms/step - loss: 0.2233 - sparse_categorical_accuracy: 0.9185 - val_loss: 1.0469 - val_sparse_categorical_accuracy: 0.7060\n",
      "Epoch 12/25\n",
      "125/125 [==============================] - 1s 4ms/step - loss: 0.2328 - sparse_categorical_accuracy: 0.9193 - val_loss: 1.0901 - val_sparse_categorical_accuracy: 0.7010\n",
      "Epoch 13/25\n",
      "125/125 [==============================] - 1s 4ms/step - loss: 0.1920 - sparse_categorical_accuracy: 0.9330 - val_loss: 1.1185 - val_sparse_categorical_accuracy: 0.6970\n",
      "Epoch 14/25\n",
      "125/125 [==============================] - 1s 4ms/step - loss: 0.1814 - sparse_categorical_accuracy: 0.9408 - val_loss: 1.1440 - val_sparse_categorical_accuracy: 0.7160\n",
      "Epoch 15/25\n",
      "125/125 [==============================] - 1s 4ms/step - loss: 0.1754 - sparse_categorical_accuracy: 0.9340 - val_loss: 1.1586 - val_sparse_categorical_accuracy: 0.7010\n",
      "Epoch 16/25\n",
      "125/125 [==============================] - 1s 4ms/step - loss: 0.1462 - sparse_categorical_accuracy: 0.9498 - val_loss: 1.1533 - val_sparse_categorical_accuracy: 0.7130\n",
      "Epoch 17/25\n",
      "125/125 [==============================] - 1s 4ms/step - loss: 0.1437 - sparse_categorical_accuracy: 0.9525 - val_loss: 1.1719 - val_sparse_categorical_accuracy: 0.7100\n",
      "Epoch 18/25\n",
      "125/125 [==============================] - 1s 4ms/step - loss: 0.1221 - sparse_categorical_accuracy: 0.9610 - val_loss: 1.2084 - val_sparse_categorical_accuracy: 0.7020\n",
      "Epoch 19/25\n",
      "125/125 [==============================] - 1s 4ms/step - loss: 0.1023 - sparse_categorical_accuracy: 0.9635 - val_loss: 1.1852 - val_sparse_categorical_accuracy: 0.7040\n",
      "Epoch 20/25\n",
      "125/125 [==============================] - 1s 4ms/step - loss: 0.1044 - sparse_categorical_accuracy: 0.9655 - val_loss: 1.2216 - val_sparse_categorical_accuracy: 0.7000\n",
      "Epoch 21/25\n",
      "125/125 [==============================] - 1s 4ms/step - loss: 0.0991 - sparse_categorical_accuracy: 0.9660 - val_loss: 1.2077 - val_sparse_categorical_accuracy: 0.7090\n",
      "Epoch 22/25\n",
      "125/125 [==============================] - 1s 4ms/step - loss: 0.0892 - sparse_categorical_accuracy: 0.9700 - val_loss: 1.3256 - val_sparse_categorical_accuracy: 0.7020\n",
      "Epoch 23/25\n",
      "125/125 [==============================] - 1s 4ms/step - loss: 0.1025 - sparse_categorical_accuracy: 0.9647 - val_loss: 1.2640 - val_sparse_categorical_accuracy: 0.7000\n",
      "Epoch 24/25\n",
      "125/125 [==============================] - 1s 4ms/step - loss: 0.0845 - sparse_categorical_accuracy: 0.9730 - val_loss: 1.2801 - val_sparse_categorical_accuracy: 0.6930\n",
      "Epoch 25/25\n",
      "125/125 [==============================] - 1s 4ms/step - loss: 0.0953 - sparse_categorical_accuracy: 0.9685 - val_loss: 1.3376 - val_sparse_categorical_accuracy: 0.6970\n"
     ]
    },
    {
     "data": {
      "text/plain": [
       "<keras.callbacks.History at 0x218474ee220>"
      ]
     },
     "execution_count": 43,
     "metadata": {},
     "output_type": "execute_result"
    }
   ],
   "source": [
    "# Train 10% Model\n",
    "\n",
    "custom_model_10.fit(x_train10,y_train10,epochs=25,batch_size=32, validation_split=0.2)\n",
    "#history10_2 = custom_model_10.fit(x_train10,y_train10,epochs=25,batch_size=32, validation_split=0.2)"
   ]
  },
  {
   "cell_type": "code",
   "execution_count": 44,
   "id": "e9af1cbb",
   "metadata": {},
   "outputs": [
    {
     "name": "stdout",
     "output_type": "stream",
     "text": [
      "Epoch 1/25\n",
      "625/625 [==============================] - 3s 4ms/step - loss: 0.5159 - sparse_categorical_accuracy: 0.8339 - val_loss: 0.2590 - val_sparse_categorical_accuracy: 0.9354\n",
      "Epoch 2/25\n",
      "625/625 [==============================] - 2s 4ms/step - loss: 0.3501 - sparse_categorical_accuracy: 0.8796 - val_loss: 0.2824 - val_sparse_categorical_accuracy: 0.9204\n",
      "Epoch 3/25\n",
      "625/625 [==============================] - 2s 4ms/step - loss: 0.2727 - sparse_categorical_accuracy: 0.9060 - val_loss: 0.2877 - val_sparse_categorical_accuracy: 0.9198\n",
      "Epoch 4/25\n",
      "625/625 [==============================] - 2s 4ms/step - loss: 0.2629 - sparse_categorical_accuracy: 0.9096 - val_loss: 0.3217 - val_sparse_categorical_accuracy: 0.9064\n",
      "Epoch 5/25\n",
      "625/625 [==============================] - 2s 4ms/step - loss: 0.2354 - sparse_categorical_accuracy: 0.9194 - val_loss: 0.3758 - val_sparse_categorical_accuracy: 0.8918\n",
      "Epoch 6/25\n",
      "625/625 [==============================] - 2s 4ms/step - loss: 0.2147 - sparse_categorical_accuracy: 0.9256 - val_loss: 0.3469 - val_sparse_categorical_accuracy: 0.9034\n",
      "Epoch 7/25\n",
      "625/625 [==============================] - 2s 4ms/step - loss: 0.1966 - sparse_categorical_accuracy: 0.9323 - val_loss: 0.3592 - val_sparse_categorical_accuracy: 0.8998\n",
      "Epoch 8/25\n",
      "625/625 [==============================] - 2s 4ms/step - loss: 0.1950 - sparse_categorical_accuracy: 0.9311 - val_loss: 0.3576 - val_sparse_categorical_accuracy: 0.9018\n",
      "Epoch 9/25\n",
      "625/625 [==============================] - 2s 4ms/step - loss: 0.1853 - sparse_categorical_accuracy: 0.9366 - val_loss: 0.3872 - val_sparse_categorical_accuracy: 0.8884\n",
      "Epoch 10/25\n",
      "625/625 [==============================] - 2s 4ms/step - loss: 0.1787 - sparse_categorical_accuracy: 0.9395 - val_loss: 0.4205 - val_sparse_categorical_accuracy: 0.8834\n",
      "Epoch 11/25\n",
      "625/625 [==============================] - 2s 4ms/step - loss: 0.1662 - sparse_categorical_accuracy: 0.9415 - val_loss: 0.4134 - val_sparse_categorical_accuracy: 0.8834\n",
      "Epoch 12/25\n",
      "625/625 [==============================] - 2s 4ms/step - loss: 0.1637 - sparse_categorical_accuracy: 0.9438 - val_loss: 0.4628 - val_sparse_categorical_accuracy: 0.8670\n",
      "Epoch 13/25\n",
      "625/625 [==============================] - 2s 4ms/step - loss: 0.1680 - sparse_categorical_accuracy: 0.9429 - val_loss: 0.4705 - val_sparse_categorical_accuracy: 0.8676\n",
      "Epoch 14/25\n",
      "625/625 [==============================] - 2s 4ms/step - loss: 0.1443 - sparse_categorical_accuracy: 0.9506 - val_loss: 0.4628 - val_sparse_categorical_accuracy: 0.8692\n",
      "Epoch 15/25\n",
      "625/625 [==============================] - 2s 4ms/step - loss: 0.1492 - sparse_categorical_accuracy: 0.9491 - val_loss: 0.4922 - val_sparse_categorical_accuracy: 0.8694\n",
      "Epoch 16/25\n",
      "625/625 [==============================] - 2s 4ms/step - loss: 0.1535 - sparse_categorical_accuracy: 0.9488 - val_loss: 0.4892 - val_sparse_categorical_accuracy: 0.8592\n",
      "Epoch 17/25\n",
      "625/625 [==============================] - 2s 4ms/step - loss: 0.1480 - sparse_categorical_accuracy: 0.9503 - val_loss: 0.5376 - val_sparse_categorical_accuracy: 0.8528\n",
      "Epoch 18/25\n",
      "625/625 [==============================] - 2s 4ms/step - loss: 0.1468 - sparse_categorical_accuracy: 0.9505 - val_loss: 0.5298 - val_sparse_categorical_accuracy: 0.8566\n",
      "Epoch 19/25\n",
      "625/625 [==============================] - 2s 4ms/step - loss: 0.1461 - sparse_categorical_accuracy: 0.9504 - val_loss: 0.5401 - val_sparse_categorical_accuracy: 0.8518\n",
      "Epoch 20/25\n",
      "625/625 [==============================] - 2s 4ms/step - loss: 0.1348 - sparse_categorical_accuracy: 0.9566 - val_loss: 0.5582 - val_sparse_categorical_accuracy: 0.8480\n",
      "Epoch 21/25\n",
      "625/625 [==============================] - 2s 4ms/step - loss: 0.1304 - sparse_categorical_accuracy: 0.9542 - val_loss: 0.5386 - val_sparse_categorical_accuracy: 0.8540\n",
      "Epoch 22/25\n",
      "625/625 [==============================] - 2s 4ms/step - loss: 0.1315 - sparse_categorical_accuracy: 0.9560 - val_loss: 0.5511 - val_sparse_categorical_accuracy: 0.8472\n",
      "Epoch 23/25\n",
      "625/625 [==============================] - 2s 4ms/step - loss: 0.1204 - sparse_categorical_accuracy: 0.9589 - val_loss: 0.6291 - val_sparse_categorical_accuracy: 0.8356\n",
      "Epoch 24/25\n",
      "625/625 [==============================] - 2s 4ms/step - loss: 0.1449 - sparse_categorical_accuracy: 0.9506 - val_loss: 0.6171 - val_sparse_categorical_accuracy: 0.8400\n",
      "Epoch 25/25\n",
      "625/625 [==============================] - 2s 4ms/step - loss: 0.1272 - sparse_categorical_accuracy: 0.9565 - val_loss: 0.6487 - val_sparse_categorical_accuracy: 0.8334\n"
     ]
    },
    {
     "data": {
      "text/plain": [
       "<keras.callbacks.History at 0x218450d5a30>"
      ]
     },
     "execution_count": 44,
     "metadata": {},
     "output_type": "execute_result"
    }
   ],
   "source": [
    "# Train 50% Model\n",
    "\n",
    "custom_model_50.fit(x_train50,y_train50,epochs=25,batch_size=32, validation_split=0.2)\n",
    "#history50_2 = custom_model_50.fit(x_train50,y_train50,epochs=25,batch_size=32, validation_split=0.2)"
   ]
  },
  {
   "cell_type": "code",
   "execution_count": 45,
   "id": "de7b3238",
   "metadata": {},
   "outputs": [
    {
     "name": "stdout",
     "output_type": "stream",
     "text": [
      "Epoch 1/25\n",
      "1000/1000 [==============================] - 4s 4ms/step - loss: 0.4244 - sparse_categorical_accuracy: 0.8681 - val_loss: 0.3612 - val_sparse_categorical_accuracy: 0.8870\n",
      "Epoch 2/25\n",
      "1000/1000 [==============================] - 4s 4ms/step - loss: 0.3340 - sparse_categorical_accuracy: 0.8895 - val_loss: 0.3338 - val_sparse_categorical_accuracy: 0.8940\n",
      "Epoch 3/25\n",
      "1000/1000 [==============================] - 4s 4ms/step - loss: 0.2856 - sparse_categorical_accuracy: 0.9054 - val_loss: 0.3433 - val_sparse_categorical_accuracy: 0.8953\n",
      "Epoch 4/25\n",
      "1000/1000 [==============================] - 4s 4ms/step - loss: 0.2596 - sparse_categorical_accuracy: 0.9113 - val_loss: 0.3610 - val_sparse_categorical_accuracy: 0.8848\n",
      "Epoch 5/25\n",
      "1000/1000 [==============================] - 4s 4ms/step - loss: 0.2546 - sparse_categorical_accuracy: 0.9133 - val_loss: 0.3710 - val_sparse_categorical_accuracy: 0.8880\n",
      "Epoch 6/25\n",
      "1000/1000 [==============================] - 4s 4ms/step - loss: 0.2404 - sparse_categorical_accuracy: 0.9193 - val_loss: 0.3735 - val_sparse_categorical_accuracy: 0.8824\n",
      "Epoch 7/25\n",
      "1000/1000 [==============================] - 4s 4ms/step - loss: 0.2267 - sparse_categorical_accuracy: 0.9217 - val_loss: 0.3778 - val_sparse_categorical_accuracy: 0.8824\n",
      "Epoch 8/25\n",
      "1000/1000 [==============================] - 4s 4ms/step - loss: 0.2214 - sparse_categorical_accuracy: 0.9245 - val_loss: 0.4336 - val_sparse_categorical_accuracy: 0.8671\n",
      "Epoch 9/25\n",
      "1000/1000 [==============================] - 4s 4ms/step - loss: 0.2185 - sparse_categorical_accuracy: 0.9245 - val_loss: 0.4082 - val_sparse_categorical_accuracy: 0.8791\n",
      "Epoch 10/25\n",
      "1000/1000 [==============================] - 4s 4ms/step - loss: 0.2054 - sparse_categorical_accuracy: 0.9287 - val_loss: 0.4179 - val_sparse_categorical_accuracy: 0.8769\n",
      "Epoch 11/25\n",
      "1000/1000 [==============================] - 4s 4ms/step - loss: 0.1999 - sparse_categorical_accuracy: 0.9314 - val_loss: 0.4377 - val_sparse_categorical_accuracy: 0.8705\n",
      "Epoch 12/25\n",
      "1000/1000 [==============================] - 4s 4ms/step - loss: 0.1924 - sparse_categorical_accuracy: 0.9340 - val_loss: 0.4284 - val_sparse_categorical_accuracy: 0.8716\n",
      "Epoch 13/25\n",
      "1000/1000 [==============================] - 4s 4ms/step - loss: 0.1959 - sparse_categorical_accuracy: 0.9334 - val_loss: 0.4748 - val_sparse_categorical_accuracy: 0.8604\n",
      "Epoch 14/25\n",
      "1000/1000 [==============================] - 4s 4ms/step - loss: 0.1901 - sparse_categorical_accuracy: 0.9340 - val_loss: 0.4404 - val_sparse_categorical_accuracy: 0.8691\n",
      "Epoch 15/25\n",
      "1000/1000 [==============================] - 4s 4ms/step - loss: 0.1937 - sparse_categorical_accuracy: 0.9340 - val_loss: 0.4960 - val_sparse_categorical_accuracy: 0.8543\n",
      "Epoch 16/25\n",
      "1000/1000 [==============================] - 4s 4ms/step - loss: 0.1882 - sparse_categorical_accuracy: 0.9357 - val_loss: 0.5059 - val_sparse_categorical_accuracy: 0.8489\n",
      "Epoch 17/25\n",
      "1000/1000 [==============================] - 4s 4ms/step - loss: 0.1805 - sparse_categorical_accuracy: 0.9381 - val_loss: 0.5387 - val_sparse_categorical_accuracy: 0.8505\n",
      "Epoch 18/25\n",
      "1000/1000 [==============================] - 4s 4ms/step - loss: 0.1726 - sparse_categorical_accuracy: 0.9401 - val_loss: 0.4898 - val_sparse_categorical_accuracy: 0.8520\n",
      "Epoch 19/25\n",
      "1000/1000 [==============================] - 4s 4ms/step - loss: 0.1765 - sparse_categorical_accuracy: 0.9399 - val_loss: 0.5162 - val_sparse_categorical_accuracy: 0.8471\n",
      "Epoch 20/25\n",
      "1000/1000 [==============================] - 4s 4ms/step - loss: 0.1787 - sparse_categorical_accuracy: 0.9390 - val_loss: 0.5187 - val_sparse_categorical_accuracy: 0.8470\n",
      "Epoch 21/25\n",
      "1000/1000 [==============================] - 4s 4ms/step - loss: 0.1738 - sparse_categorical_accuracy: 0.9412 - val_loss: 0.5559 - val_sparse_categorical_accuracy: 0.8439\n",
      "Epoch 22/25\n",
      "1000/1000 [==============================] - 4s 4ms/step - loss: 0.1741 - sparse_categorical_accuracy: 0.9408 - val_loss: 0.5191 - val_sparse_categorical_accuracy: 0.8515\n",
      "Epoch 23/25\n",
      "1000/1000 [==============================] - 4s 4ms/step - loss: 0.1677 - sparse_categorical_accuracy: 0.9434 - val_loss: 0.5385 - val_sparse_categorical_accuracy: 0.8434\n",
      "Epoch 24/25\n",
      "1000/1000 [==============================] - 4s 4ms/step - loss: 0.1729 - sparse_categorical_accuracy: 0.9417 - val_loss: 0.5775 - val_sparse_categorical_accuracy: 0.8369\n",
      "Epoch 25/25\n",
      "1000/1000 [==============================] - 4s 4ms/step - loss: 0.1594 - sparse_categorical_accuracy: 0.9455 - val_loss: 0.5809 - val_sparse_categorical_accuracy: 0.8349\n"
     ]
    },
    {
     "data": {
      "text/plain": [
       "<keras.callbacks.History at 0x218450e7f40>"
      ]
     },
     "execution_count": 45,
     "metadata": {},
     "output_type": "execute_result"
    }
   ],
   "source": [
    "# Train 80% Model\n",
    "\n",
    "custom_model_80.fit(x_train80,y_train80,epochs=25,batch_size=32, validation_split=0.2)\n",
    "#history80_2 = custom_model_80.fit(x_train80,y_train80,epochs=25,batch_size=32, validation_split=0.2)"
   ]
  },
  {
   "cell_type": "markdown",
   "id": "0ff6ee25",
   "metadata": {},
   "source": [
    "## Plotting the Loss of My Model"
   ]
  },
  {
   "cell_type": "code",
   "execution_count": 58,
   "id": "e85e1613",
   "metadata": {},
   "outputs": [
    {
     "data": {
      "text/html": [
       "<div>\n",
       "<style scoped>\n",
       "    .dataframe tbody tr th:only-of-type {\n",
       "        vertical-align: middle;\n",
       "    }\n",
       "\n",
       "    .dataframe tbody tr th {\n",
       "        vertical-align: top;\n",
       "    }\n",
       "\n",
       "    .dataframe thead th {\n",
       "        text-align: right;\n",
       "    }\n",
       "</style>\n",
       "<table border=\"1\" class=\"dataframe\">\n",
       "  <thead>\n",
       "    <tr style=\"text-align: right;\">\n",
       "      <th></th>\n",
       "      <th>0</th>\n",
       "    </tr>\n",
       "  </thead>\n",
       "  <tbody>\n",
       "    <tr>\n",
       "      <th>DenseNet121 10% Test error</th>\n",
       "      <td>0.2593</td>\n",
       "    </tr>\n",
       "    <tr>\n",
       "      <th>DenseNet121 50% Test error</th>\n",
       "      <td>0.2593</td>\n",
       "    </tr>\n",
       "    <tr>\n",
       "      <th>DenseNet121 80% Test error</th>\n",
       "      <td>0.2593</td>\n",
       "    </tr>\n",
       "    <tr>\n",
       "      <th>Custom 10% Test error</th>\n",
       "      <td>0.2862</td>\n",
       "    </tr>\n",
       "    <tr>\n",
       "      <th>Custom 50%  Test error</th>\n",
       "      <td>0.2862</td>\n",
       "    </tr>\n",
       "    <tr>\n",
       "      <th>Custom 80%  Test error</th>\n",
       "      <td>0.2862</td>\n",
       "    </tr>\n",
       "  </tbody>\n",
       "</table>\n",
       "</div>"
      ],
      "text/plain": [
       "                                 0\n",
       "DenseNet121 10% Test error  0.2593\n",
       "DenseNet121 50% Test error  0.2593\n",
       "DenseNet121 80% Test error  0.2593\n",
       "Custom 10% Test error       0.2862\n",
       "Custom 50%  Test error      0.2862\n",
       "Custom 80%  Test error      0.2862"
      ]
     },
     "execution_count": 58,
     "metadata": {},
     "output_type": "execute_result"
    }
   ],
   "source": [
    "## Test Error\n",
    "\n",
    "\n",
    "temp3={}\n",
    "temp4={}\n",
    "temp5={}\n",
    "\n",
    "score = custom_model_10.evaluate(x_test, y_test, verbose=0)\n",
    "temp3[\"Custom 10% Test error\"]=1-score[1]\n",
    "performance3 = pd.DataFrame([temp3]).T\n",
    "performance = performance.append(performance3)\n",
    "\n",
    "score2 = custom_model_50.evaluate(x_test, y_test, verbose=0)\n",
    "temp4[\"Custom 50%  Test error\"]=1-score[1]\n",
    "performance4 = pd.DataFrame([temp4]).T\n",
    "performance = performance.append(performance4)\n",
    "\n",
    "score3 = custom_model_80.evaluate(x_test, y_test, verbose=0)\n",
    "temp5[\"Custom 80%  Test error\"]=1-score[1]\n",
    "performance5 = pd.DataFrame([temp5]).T\n",
    "performance = performance.append(performance5)\n",
    "\n",
    "performance"
   ]
  },
  {
   "cell_type": "code",
   "execution_count": 76,
   "id": "91a1fc52",
   "metadata": {},
   "outputs": [
    {
     "data": {
      "image/png": "[encoded data removed]",
      "text/plain": [
       "<Figure size 1800x360 with 1 Axes>"
      ]
     },
     "metadata": {
      "needs_background": "light"
     },
     "output_type": "display_data"
    }
   ],
   "source": [
    "# Plotting Bar Plot\n",
    "\n",
    "names = ('DenseNet121 10% Test error', 'DenseNet121 50% Test error',\n",
    "         'DenseNet121 80% Test error','Custom 10% Test error',\n",
    "         'Custom 50% Test error','Custom 80% Test error')\n",
    "\n",
    "values = (0.2593,0.2593,0.2593,0.2862,0.2862,0.2862)\n",
    "\n",
    "fig = plt.figure(figsize = (25,5))\n",
    "plt.bar(names, values)\n",
    "plt.show()"
   ]
  },
  {
   "cell_type": "markdown",
   "id": "8ff931dc",
   "metadata": {},
   "source": [
    "# Plotting the 10% Model\n",
    "\n",
    "plt.plot(history10_2.history['loss'])\n",
    "plt.title('Model 10% Top-1 Error')\n",
    "plt.ylabel('Loss')\n",
    "plt.xlabel('Epoch')\n",
    "plt.legend(['train'], loc = 'upper left')\n",
    "plt.show()\n",
    "\n",
    "# Plotting the 50% Model\n",
    "\n",
    "plt.plot(history50_2.history['loss'])\n",
    "plt.title('Model 50% Top-1 Error')\n",
    "plt.ylabel('Loss')\n",
    "plt.xlabel('Epoch')\n",
    "plt.legend(['train'], loc = 'upper left')\n",
    "plt.show()\n",
    "\n",
    "# Plotting the 80% Model\n",
    "\n",
    "plt.plot(history80_2.history['loss'])\n",
    "plt.title('Model 80% Top-1 Error')\n",
    "plt.ylabel('Loss')\n",
    "plt.xlabel('Epoch')\n",
    "plt.legend(['train'], loc = 'upper left')\n",
    "plt.show()"
   ]
  }
 ],
 "metadata": {
  "kernelspec": {
   "display_name": "Python 3 (ipykernel)",
   "language": "python",
   "name": "python3"
  },
  "language_info": {
   "codemirror_mode": {
    "name": "ipython",
    "version": 3
   },
   "file_extension": ".py",
   "mimetype": "text/x-python",
   "name": "python",
   "nbconvert_exporter": "python",
   "pygments_lexer": "ipython3",
   "version": "3.9.7"
  }
 },
 "nbformat": 4,
 "nbformat_minor": 5
}
