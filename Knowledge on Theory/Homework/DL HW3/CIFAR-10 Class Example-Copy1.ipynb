{
 "cells": [
  {
   "cell_type": "markdown",
   "metadata": {
    "executionInfo": {
     "elapsed": 6410,
     "status": "ok",
     "timestamp": 1646100924909,
     "user": {
      "displayName": "Haifeng Wang",
      "photoUrl": "https://lh3.googleusercontent.com/a/default-user=s64",
      "userId": "08816363594889273191"
     },
     "user_tz": 360
    },
    "id": "rMUl_LZczlCr"
   },
   "source": [
    "# Loss Landscapes of Activation Functions"
   ]
  },
  {
   "cell_type": "markdown",
   "metadata": {},
   "source": [
    "## Importing Libraries"
   ]
  },
  {
   "cell_type": "code",
   "execution_count": 1,
   "metadata": {},
   "outputs": [],
   "source": [
    "import numpy as np\n",
    "import tensorflow as tf\n",
    "from tensorflow import keras\n",
    "from tensorflow.keras import layers"
   ]
  },
  {
   "cell_type": "markdown",
   "metadata": {},
   "source": [
    "## Defining Functions for LL"
   ]
  },
  {
   "cell_type": "code",
   "execution_count": 2,
   "metadata": {},
   "outputs": [],
   "source": [
    "# Make the Plot\n",
    "\n",
    "import matplotlib.pyplot as plt\n",
    "#import numpy as np\n",
    "#import tensorflow as tf\n",
    "from tensorflow import keras\n",
    "from tensorflow.keras import callbacks, layers\n",
    "\n",
    "\n",
    "##########################################################################\n",
    "class RandomCoordinates(object):\n",
    "    def __init__(self, origin):\n",
    "        self.origin_ = origin\n",
    "        self.v0_ = normalize_weights(\n",
    "            [np.random.normal(size=w.shape) for w in origin], origin\n",
    "        )\n",
    "        self.v1_ = normalize_weights(\n",
    "            [np.random.normal(size=w.shape) for w in origin], origin\n",
    "        )\n",
    "\n",
    "    def __call__(self, a, b):\n",
    "        return [\n",
    "            a * w0 + b * w1 + wc\n",
    "            for w0, w1, wc in zip(self.v0_, self.v1_, self.origin_)\n",
    "        ]\n",
    "\n",
    "\n",
    "def normalize_weights(weights, origin):\n",
    "    return [\n",
    "        w * np.linalg.norm(wc) / np.linalg.norm(w)\n",
    "        for w, wc in zip(weights, origin)\n",
    "    ]\n",
    "\n",
    "\n",
    "##########################################################################\n",
    "class LossSurface(object):\n",
    "    def __init__(self, model, inputs, outputs):\n",
    "        self.model_ = model\n",
    "        self.inputs_ = inputs\n",
    "        self.outputs_ = outputs\n",
    "\n",
    "    def compile(self, range, points, coords):\n",
    "        a_grid = tf.linspace(-1.0, 1.0, num=points) ** 3 * range\n",
    "        b_grid = tf.linspace(-1.0, 1.0, num=points) ** 3 * range\n",
    "        loss_grid = np.empty([len(a_grid), len(b_grid)])\n",
    "        for i, a in enumerate(a_grid):\n",
    "            for j, b in enumerate(b_grid):\n",
    "                self.model_.set_weights(coords(a, b))\n",
    "                loss = self.model_.test_on_batch(\n",
    "                    self.inputs_, self.outputs_, return_dict=True\n",
    "                )[\"loss\"]\n",
    "                loss_grid[j, i] = loss\n",
    "        self.model_.set_weights(coords.origin_)\n",
    "        self.a_grid_ = a_grid\n",
    "        self.b_grid_ = b_grid\n",
    "        self.loss_grid_ = loss_grid\n",
    "\n",
    "    def plot(self, range=1.0, points=24, levels=20, ax=None, **kwargs):\n",
    "        xs = self.a_grid_\n",
    "        ys = self.b_grid_\n",
    "        zs = self.loss_grid_\n",
    "        if ax is None:\n",
    "            _, ax = plt.subplots(**kwargs)\n",
    "            ax.set_title(\"The Loss Surface\")\n",
    "            ax.set_aspect(\"equal\")\n",
    "        # Set Levels\n",
    "        min_loss = zs.min()\n",
    "        max_loss = zs.max()\n",
    "        levels = tf.exp(\n",
    "            tf.linspace(\n",
    "                tf.math.log(min_loss), tf.math.log(max_loss), num=levels\n",
    "            )\n",
    "        )\n",
    "        # Create Contour Plot\n",
    "        CS = ax.contour(\n",
    "            xs,\n",
    "            ys,\n",
    "            zs,\n",
    "            levels=levels,\n",
    "            cmap=\"magma\",\n",
    "            linewidths=0.75,\n",
    "            norm=matplotlib.colors.LogNorm(vmin=min_loss, vmax=max_loss * 2.0),\n",
    "        )\n",
    "        ax.clabel(CS, inline=True, fontsize=8, fmt=\"%1.2f\")\n",
    "        return ax\n",
    "    "
   ]
  },
  {
   "cell_type": "code",
   "execution_count": 3,
   "metadata": {},
   "outputs": [],
   "source": [
    "##########################################################################    \n",
    "from sklearn.decomposition import PCA\n",
    "\n",
    "# Some utility functions to reshape network weights\n",
    "def vectorize_weights_(weights):\n",
    "    vec = [w.flatten() for w in weights]\n",
    "    vec = np.hstack(vec)\n",
    "    return vec\n",
    "\n",
    "##########################################################################\n",
    "def vectorize_weight_list_(weight_list):\n",
    "    vec_list = []\n",
    "    for weights in weight_list:\n",
    "        vec_list.append(vectorize_weights_(weights))\n",
    "    weight_matrix = np.column_stack(vec_list)\n",
    "    return weight_matrix\n",
    "\n",
    "##########################################################################\n",
    "def shape_weight_matrix_like_(weight_matrix, example):\n",
    "    weight_vecs = np.hsplit(weight_matrix, weight_matrix.shape[1])\n",
    "    sizes = [v.size for v in example]\n",
    "    shapes = [v.shape for v in example]\n",
    "    weight_list = []\n",
    "    for net_weights in weight_vecs:\n",
    "        vs = np.split(net_weights, np.cumsum(sizes))[:-1]\n",
    "        vs = [v.reshape(s) for v, s in zip(vs, shapes)]\n",
    "        weight_list.append(vs)\n",
    "    return weight_list\n",
    "\n",
    "##########################################################################\n",
    "def get_path_components_(training_path, n_components=2):\n",
    "    # Vectorize network weights\n",
    "    weight_matrix = vectorize_weight_list_(training_path)\n",
    "    # Create components\n",
    "    pca = PCA(n_components=2, whiten=True)\n",
    "    components = pca.fit_transform(weight_matrix)\n",
    "    # Reshape to fit network\n",
    "    example = training_path[0]\n",
    "    weight_list = shape_weight_matrix_like_(components, example)\n",
    "    return pca, weight_list\n",
    "\n",
    "##########################################################################\n",
    "class PCACoordinates(object):\n",
    "    def __init__(self, training_path):\n",
    "        origin = training_path[-1]\n",
    "        self.pca_, self.components = get_path_components_(training_path)\n",
    "        self.set_origin(origin)\n",
    "\n",
    "    def __call__(self, a, b):\n",
    "        return [\n",
    "            a * w0 + b * w1 + wc\n",
    "            for w0, w1, wc in zip(self.v0_, self.v1_, self.origin_)\n",
    "        ]\n",
    "\n",
    "    def set_origin(self, origin, renorm=True):\n",
    "        self.origin_ = origin\n",
    "        if renorm:\n",
    "            self.v0_ = normalize_weights(self.components[0], origin)\n",
    "            self.v1_ = normalize_weights(self.components[1], origin)\n",
    "\n",
    "        "
   ]
  },
  {
   "cell_type": "code",
   "execution_count": 4,
   "metadata": {},
   "outputs": [],
   "source": [
    "def weights_to_coordinates(coords, training_path):\n",
    "    \"\"\"Project the training path onto the first two principal components\n",
    "using the pseudoinverse.\"\"\"\n",
    "    components = [coords.v0_, coords.v1_]\n",
    "    comp_matrix = vectorize_weight_list_(components)\n",
    "    # the pseudoinverse\n",
    "    comp_matrix_i = np.linalg.pinv(comp_matrix)\n",
    "    # the origin vector\n",
    "    w_c = vectorize_weights_(training_path[-1])\n",
    "    # center the weights on the training path and project onto components\n",
    "    coord_path = np.array(\n",
    "        [\n",
    "            comp_matrix_i @ (vectorize_weights_(weights) - w_c)\n",
    "            for weights in training_path\n",
    "        ]\n",
    "    )\n",
    "    return coord_path\n",
    "\n",
    "\n",
    "def plot_training_path(coords, training_path, ax=None, end=None, **kwargs):\n",
    "    path = weights_to_coordinates(coords, training_path)\n",
    "    if ax is None:\n",
    "        fig, ax = plt.subplots(**kwargs)\n",
    "    colors = range(path.shape[0])\n",
    "    end = path.shape[0] if end is None else end\n",
    "    norm = plt.Normalize(0, end)\n",
    "    ax.scatter(\n",
    "        path[:, 0], path[:, 1], s=4, c=colors, cmap=\"cividis\", norm=norm,\n",
    "    )\n",
    "    return ax"
   ]
  },
  {
   "cell_type": "markdown",
   "metadata": {},
   "source": [
    "## Defining Activation Functions"
   ]
  },
  {
   "cell_type": "code",
   "execution_count": null,
   "metadata": {},
   "outputs": [],
   "source": []
  },
  {
   "cell_type": "code",
   "execution_count": null,
   "metadata": {},
   "outputs": [],
   "source": []
  },
  {
   "cell_type": "markdown",
   "metadata": {},
   "source": [
    "## Loading Data"
   ]
  },
  {
   "cell_type": "code",
   "execution_count": 5,
   "metadata": {
    "colab": {
     "base_uri": "https://localhost:8080/"
    },
    "executionInfo": {
     "elapsed": 8940,
     "status": "ok",
     "timestamp": 1646100934780,
     "user": {
      "displayName": "Haifeng Wang",
      "photoUrl": "https://lh3.googleusercontent.com/a/default-user=s64",
      "userId": "08816363594889273191"
     },
     "user_tz": 360
    },
    "id": "cyh1nz-1zs1Q",
    "outputId": "0d3f1c35-8e86-4059-aa5f-185608c1491f"
   },
   "outputs": [
    {
     "name": "stdout",
     "output_type": "stream",
     "text": [
      "x_train shape: (50000, 32, 32, 3) - y_train shape: (50000, 1)\n",
      "x_test shape: (10000, 32, 32, 3) - y_test shape: (10000, 1)\n"
     ]
    }
   ],
   "source": [
    "\n",
    "um_classes = 10\n",
    "input_shape = (32, 32, 3)\n",
    "\n",
    "(X_train, y_train), (X_test, y_test) = keras.datasets.cifar10.load_data()\n",
    "\n",
    "print(\"x_train shape: {} - y_train shape: {}\".format(X_train.shape,y_train.shape))\n",
    "print(\"x_test shape: {} - y_test shape: {}\".format(X_test.shape,y_test.shape))\n"
   ]
  },
  {
   "cell_type": "code",
   "execution_count": 6,
   "metadata": {
    "executionInfo": {
     "elapsed": 461,
     "status": "ok",
     "timestamp": 1646100936742,
     "user": {
      "displayName": "Haifeng Wang",
      "photoUrl": "https://lh3.googleusercontent.com/a/default-user=s64",
      "userId": "08816363594889273191"
     },
     "user_tz": 360
    },
    "id": "RP6JF2DB_Xyb"
   },
   "outputs": [],
   "source": [
    "\n",
    "# Scale images to the [0, 1] range\n",
    "X_train = X_train.astype(\"float32\") / 255\n",
    "X_test = X_test.astype(\"float32\") / 255\n",
    "# convert class vectors to binary class matrices\n",
    "y_train = keras.utils.to_categorical(y_train, um_classes)\n",
    "y_test = keras.utils.to_categorical(y_test, um_classes)\n"
   ]
  },
  {
   "cell_type": "code",
   "execution_count": 7,
   "metadata": {
    "colab": {
     "base_uri": "https://localhost:8080/"
    },
    "executionInfo": {
     "elapsed": 394,
     "status": "ok",
     "timestamp": 1646100939009,
     "user": {
      "displayName": "Haifeng Wang",
      "photoUrl": "https://lh3.googleusercontent.com/a/default-user=s64",
      "userId": "08816363594889273191"
     },
     "user_tz": 360
    },
    "id": "DaCSd1TXzzKL",
    "outputId": "0130dd0b-c5fd-4ed4-9077-a3a7fb413874"
   },
   "outputs": [
    {
     "name": "stdout",
     "output_type": "stream",
     "text": [
      "x_train shape: (60000, 32, 32, 3) - y_train shape: (60000, 10)\n"
     ]
    }
   ],
   "source": [
    "# merge the original train and test data together\n",
    "\n",
    "x_train=np.concatenate((X_train,X_test))\n",
    "y_train=np.concatenate((y_train, y_test))\n",
    "print(\"x_train shape: {} - y_train shape: {}\".format(x_train.shape,y_train.shape))"
   ]
  },
  {
   "cell_type": "code",
   "execution_count": 8,
   "metadata": {
    "colab": {
     "base_uri": "https://localhost:8080/"
    },
    "executionInfo": {
     "elapsed": 871,
     "status": "ok",
     "timestamp": 1646100941890,
     "user": {
      "displayName": "Haifeng Wang",
      "photoUrl": "https://lh3.googleusercontent.com/a/default-user=s64",
      "userId": "08816363594889273191"
     },
     "user_tz": 360
    },
    "id": "B4i0kg4K0Cjz",
    "outputId": "f82031e7-cb76-4032-da0a-fb4be9666af1"
   },
   "outputs": [
    {
     "name": "stdout",
     "output_type": "stream",
     "text": [
      "x_test shape: (12000, 32, 32, 3) - y_test shape: (12000, 32, 32, 3)\n"
     ]
    }
   ],
   "source": [
    "from sklearn.model_selection import train_test_split\n",
    "\n",
    "#split test and the remaining data\n",
    "X_remain, X_test, y_remain, y_test= train_test_split(x_train,y_train,test_size=0.2)\n",
    "print(\"x_test shape: {} - y_test shape: {}\".format(X_test.shape,X_test.shape))"
   ]
  },
  {
   "cell_type": "code",
   "execution_count": 9,
   "metadata": {
    "executionInfo": {
     "elapsed": 268,
     "status": "ok",
     "timestamp": 1646100943920,
     "user": {
      "displayName": "Haifeng Wang",
      "photoUrl": "https://lh3.googleusercontent.com/a/default-user=s64",
      "userId": "08816363594889273191"
     },
     "user_tz": 360
    },
    "id": "Y23ZWCyzRT__"
   },
   "outputs": [],
   "source": [
    "\n",
    "X_train, X_discard, y_train, y_discard= train_test_split(X_remain,y_remain,train_size=0.1)"
   ]
  },
  {
   "cell_type": "code",
   "execution_count": 10,
   "metadata": {},
   "outputs": [],
   "source": [
    "## Making Basic Neural Network"
   ]
  },
  {
   "cell_type": "code",
   "execution_count": 17,
   "metadata": {
    "colab": {
     "base_uri": "https://localhost:8080/"
    },
    "executionInfo": {
     "elapsed": 3243,
     "status": "ok",
     "timestamp": 1646100948735,
     "user": {
      "displayName": "Haifeng Wang",
      "photoUrl": "https://lh3.googleusercontent.com/a/default-user=s64",
      "userId": "08816363594889273191"
     },
     "user_tz": 360
    },
    "id": "YGR00bzQMUgw",
    "outputId": "e2c7a72f-bac5-46ea-a597-4155d1fc027b"
   },
   "outputs": [
    {
     "name": "stdout",
     "output_type": "stream",
     "text": [
      "Model: \"model_1\"\n",
      "_________________________________________________________________\n",
      " Layer (type)                Output Shape              Param #   \n",
      "=================================================================\n",
      " input_2 (InputLayer)        [(None, 32, 32, 3)]       0         \n",
      "                                                                 \n",
      " conv2d_2 (Conv2D)           (None, 30, 30, 32)        896       \n",
      "                                                                 \n",
      " batch_normalization_2 (Batc  (None, 30, 30, 32)       128       \n",
      " hNormalization)                                                 \n",
      "                                                                 \n",
      " activation_2 (Activation)   (None, 30, 30, 32)        0         \n",
      "                                                                 \n",
      " max_pooling2d_2 (MaxPooling  (None, 15, 15, 32)       0         \n",
      " 2D)                                                             \n",
      "                                                                 \n",
      " conv2d_3 (Conv2D)           (None, 13, 13, 64)        18496     \n",
      "                                                                 \n",
      " batch_normalization_3 (Batc  (None, 13, 13, 64)       256       \n",
      " hNormalization)                                                 \n",
      "                                                                 \n",
      " activation_3 (Activation)   (None, 13, 13, 64)        0         \n",
      "                                                                 \n",
      " max_pooling2d_3 (MaxPooling  (None, 6, 6, 64)         0         \n",
      " 2D)                                                             \n",
      "                                                                 \n",
      " flatten_1 (Flatten)         (None, 2304)              0         \n",
      "                                                                 \n",
      " dense_1 (Dense)             (None, 10)                23050     \n",
      "                                                                 \n",
      "=================================================================\n",
      "Total params: 42,826\n",
      "Trainable params: 42,634\n",
      "Non-trainable params: 192\n",
      "_________________________________________________________________\n"
     ]
    }
   ],
   "source": [
    "# customized model\n",
    "inputs = keras.Input(shape=(32, 32, 3))\n",
    "x=layers.Conv2D(32, kernel_size=(3, 3))(inputs)\n",
    "x=layers.BatchNormalization()(x)\n",
    "x=layers.Activation(\"relu\")(x)\n",
    "\n",
    "#x=layers.Dropout(0.1)(x)\n",
    "\n",
    "x=layers.MaxPooling2D(pool_size=(2, 2))(x)\n",
    "\n",
    "x=layers.Conv2D(64, kernel_size=(3, 3))(x)\n",
    "x=layers.BatchNormalization()(x)\n",
    "x=layers.Activation(\"relu\")(x)\n",
    "\n",
    "#x=layers.Dropout(0.1)(x)\n",
    "\n",
    "x=layers.MaxPooling2D(pool_size=(2, 2))(x)\n",
    "x=layers.Flatten()(x)\n",
    "outputs=layers.Dense(um_classes, activation=\"softmax\")(x)\n",
    "\n",
    "model=keras.Model(inputs,outputs)\n",
    "model.compile(loss=\"categorical_crossentropy\", optimizer=\"adam\", \n",
    "                         metrics=[\"accuracy\"])\n",
    "model.summary()"
   ]
  },
  {
   "cell_type": "markdown",
   "metadata": {},
   "source": [
    "## Running the Model"
   ]
  },
  {
   "cell_type": "code",
   "execution_count": 21,
   "metadata": {
    "colab": {
     "base_uri": "https://localhost:8080/"
    },
    "executionInfo": {
     "elapsed": 21498,
     "status": "ok",
     "timestamp": 1646100973845,
     "user": {
      "displayName": "Haifeng Wang",
      "photoUrl": "https://lh3.googleusercontent.com/a/default-user=s64",
      "userId": "08816363594889273191"
     },
     "user_tz": 360
    },
    "id": "foByGLW3Q2PP",
    "outputId": "e9541c28-4795-41e5-c26e-0d7b7fd645de",
    "scrolled": false
   },
   "outputs": [
    {
     "name": "stdout",
     "output_type": "stream",
     "text": [
      "Epoch 1/40\n",
      "1/1 [==============================] - 2s 2s/step - loss: 0.1106\n",
      "Epoch 2/40\n",
      "1/1 [==============================] - 0s 224ms/step - loss: 0.1085\n",
      "Epoch 3/40\n",
      "1/1 [==============================] - 0s 301ms/step - loss: 0.1037\n",
      "Epoch 4/40\n",
      "1/1 [==============================] - 0s 262ms/step - loss: 0.1014\n",
      "Epoch 5/40\n",
      "1/1 [==============================] - 0s 281ms/step - loss: 0.0961\n",
      "Epoch 6/40\n",
      "1/1 [==============================] - 0s 250ms/step - loss: 0.0910\n",
      "Epoch 7/40\n",
      "1/1 [==============================] - 0s 265ms/step - loss: 0.0893\n",
      "Epoch 8/40\n",
      "1/1 [==============================] - 0s 250ms/step - loss: 0.0865\n",
      "Epoch 9/40\n",
      "1/1 [==============================] - 0s 262ms/step - loss: 0.0857\n",
      "Epoch 10/40\n",
      "1/1 [==============================] - 0s 236ms/step - loss: 0.0842\n",
      "Epoch 11/40\n",
      "1/1 [==============================] - 1s 717ms/step - loss: 0.0826\n",
      "Epoch 12/40\n",
      "1/1 [==============================] - 0s 213ms/step - loss: 0.0810\n",
      "Epoch 13/40\n",
      "1/1 [==============================] - 0s 166ms/step - loss: 0.0796\n",
      "Epoch 14/40\n",
      "1/1 [==============================] - 0s 164ms/step - loss: 0.0784\n",
      "Epoch 15/40\n",
      "1/1 [==============================] - 0s 166ms/step - loss: 0.0774\n",
      "Epoch 16/40\n",
      "1/1 [==============================] - 0s 202ms/step - loss: 0.0762\n",
      "Epoch 17/40\n",
      "1/1 [==============================] - 0s 195ms/step - loss: 0.0753\n",
      "Epoch 18/40\n",
      "1/1 [==============================] - 0s 301ms/step - loss: 0.0745\n",
      "Epoch 19/40\n",
      "1/1 [==============================] - 0s 200ms/step - loss: 0.0736\n",
      "Epoch 20/40\n",
      "1/1 [==============================] - 0s 195ms/step - loss: 0.0726\n",
      "Epoch 21/40\n",
      "1/1 [==============================] - 0s 164ms/step - loss: 0.0717\n",
      "Epoch 22/40\n",
      "1/1 [==============================] - 0s 217ms/step - loss: 0.0709\n",
      "Epoch 23/40\n",
      "1/1 [==============================] - 0s 167ms/step - loss: 0.0700\n",
      "Epoch 24/40\n",
      "1/1 [==============================] - 0s 216ms/step - loss: 0.0695\n",
      "Epoch 25/40\n",
      "1/1 [==============================] - 0s 165ms/step - loss: 0.0689\n",
      "Epoch 26/40\n",
      "1/1 [==============================] - 1s 961ms/step - loss: 0.0682\n",
      "Epoch 27/40\n",
      "1/1 [==============================] - 2s 2s/step - loss: 0.0673\n",
      "Epoch 28/40\n",
      "1/1 [==============================] - 0s 384ms/step - loss: 0.0666\n",
      "Epoch 29/40\n",
      "1/1 [==============================] - 0s 219ms/step - loss: 0.0659\n",
      "Epoch 30/40\n",
      "1/1 [==============================] - 0s 283ms/step - loss: 0.0653\n",
      "Epoch 31/40\n",
      "1/1 [==============================] - 0s 263ms/step - loss: 0.0647\n",
      "Epoch 32/40\n",
      "1/1 [==============================] - 0s 246ms/step - loss: 0.0641\n",
      "Epoch 33/40\n",
      "1/1 [==============================] - 0s 335ms/step - loss: 0.0634\n",
      "Epoch 34/40\n",
      "1/1 [==============================] - 0s 168ms/step - loss: 0.0627\n",
      "Epoch 35/40\n",
      "1/1 [==============================] - 0s 158ms/step - loss: 0.0621\n",
      "Epoch 36/40\n",
      "1/1 [==============================] - 0s 188ms/step - loss: 0.0616\n",
      "Epoch 37/40\n",
      "1/1 [==============================] - 0s 329ms/step - loss: 0.0610\n",
      "Epoch 38/40\n",
      "1/1 [==============================] - 0s 168ms/step - loss: 0.0603\n",
      "Epoch 39/40\n",
      "1/1 [==============================] - 0s 166ms/step - loss: 0.0597\n",
      "Epoch 40/40\n",
      "1/1 [==============================] - 0s 201ms/step - loss: 0.0591\n"
     ]
    }
   ],
   "source": [
    "#callback = tf.keras.callbacks.EarlyStopping(monitor='loss', patience=3)\n",
    "#history = model_customized.fit(X_train, y_train, epochs=50, batch_size=32, \n",
    "                               #callbacks=[callback], validation_split=0.2, verbose=1)\n",
    "\n",
    "model.compile(\n",
    "    optimizer=\"adam\", loss=\"mse\",\n",
    ")\n",
    "\n",
    "training_path = [model.get_weights()]\n",
    "# Callback to collect weights as the model trains\n",
    "collect_weights = callbacks.LambdaCallback(\n",
    "    on_epoch_end=(\n",
    "        lambda batch, logs: training_path.append(model.get_weights())\n",
    "    )\n",
    ")\n",
    "\n",
    "history = model.fit(\n",
    "    X_train, y_train,\n",
    "    steps_per_epoch=1,\n",
    "    epochs=40,\n",
    "    callbacks=[collect_weights],\n",
    "    verbose=1,\n",
    ")"
   ]
  },
  {
   "cell_type": "markdown",
   "metadata": {},
   "source": [
    "## Performance"
   ]
  },
  {
   "cell_type": "code",
   "execution_count": 22,
   "metadata": {
    "colab": {
     "base_uri": "https://localhost:8080/"
    },
    "executionInfo": {
     "elapsed": 1556,
     "status": "ok",
     "timestamp": 1646100977072,
     "user": {
      "displayName": "Haifeng Wang",
      "photoUrl": "https://lh3.googleusercontent.com/a/default-user=s64",
      "userId": "08816363594889273191"
     },
     "user_tz": 360
    },
    "id": "7c8tIPA_BJ9w",
    "outputId": "ae1d024d-c3b8-4610-fc06-2a925f38d9a9"
   },
   "outputs": [
    {
     "ename": "TypeError",
     "evalue": "'float' object is not subscriptable",
     "output_type": "error",
     "traceback": [
      "\u001b[1;31m---------------------------------------------------------------------------\u001b[0m",
      "\u001b[1;31mTypeError\u001b[0m                                 Traceback (most recent call last)",
      "\u001b[1;32mC:\\Users\\PRESTO~1\\AppData\\Local\\Temp/ipykernel_28564/12327999.py\u001b[0m in \u001b[0;36m<module>\u001b[1;34m\u001b[0m\n\u001b[0;32m      3\u001b[0m \u001b[1;33m\u001b[0m\u001b[0m\n\u001b[0;32m      4\u001b[0m \u001b[0mscore\u001b[0m \u001b[1;33m=\u001b[0m \u001b[0mmodel_customized\u001b[0m\u001b[1;33m.\u001b[0m\u001b[0mevaluate\u001b[0m\u001b[1;33m(\u001b[0m\u001b[0mX_test\u001b[0m\u001b[1;33m,\u001b[0m \u001b[0my_test\u001b[0m\u001b[1;33m,\u001b[0m \u001b[0mverbose\u001b[0m\u001b[1;33m=\u001b[0m\u001b[1;36m0\u001b[0m\u001b[1;33m)\u001b[0m\u001b[1;33m\u001b[0m\u001b[1;33m\u001b[0m\u001b[0m\n\u001b[1;32m----> 5\u001b[1;33m \u001b[0mprint\u001b[0m\u001b[1;33m(\u001b[0m\u001b[1;34m\"Test loss:\"\u001b[0m\u001b[1;33m,\u001b[0m \u001b[0mscore\u001b[0m\u001b[1;33m[\u001b[0m\u001b[1;36m0\u001b[0m\u001b[1;33m]\u001b[0m\u001b[1;33m)\u001b[0m\u001b[1;33m\u001b[0m\u001b[1;33m\u001b[0m\u001b[0m\n\u001b[0m\u001b[0;32m      6\u001b[0m \u001b[0mprint\u001b[0m\u001b[1;33m(\u001b[0m\u001b[1;34m\"Test error:\"\u001b[0m\u001b[1;33m,\u001b[0m \u001b[1;36m1\u001b[0m\u001b[1;33m-\u001b[0m\u001b[0mscore\u001b[0m\u001b[1;33m[\u001b[0m\u001b[1;36m1\u001b[0m\u001b[1;33m]\u001b[0m\u001b[1;33m)\u001b[0m\u001b[1;33m\u001b[0m\u001b[1;33m\u001b[0m\u001b[0m\n\u001b[0;32m      7\u001b[0m \u001b[1;33m\u001b[0m\u001b[0m\n",
      "\u001b[1;31mTypeError\u001b[0m: 'float' object is not subscriptable"
     ]
    }
   ],
   "source": [
    "temp={} # store the performance\n",
    "\n",
    "\n",
    "score = model_customized.evaluate(X_test, y_test, verbose=0)\n",
    "print(\"Test loss:\", score[0])\n",
    "print(\"Test error:\", 1-score[1])\n",
    "\n",
    "temp[\"Customized Model Test error\"]=1-score[1]\n",
    "\n",
    "import pandas as pd\n",
    "\n",
    "performance =pd.DataFrame([temp])\n",
    "\n"
   ]
  },
  {
   "cell_type": "code",
   "execution_count": 24,
   "metadata": {},
   "outputs": [
    {
     "ename": "NameError",
     "evalue": "name 'matplotlib' is not defined",
     "output_type": "error",
     "traceback": [
      "\u001b[1;31m---------------------------------------------------------------------------\u001b[0m",
      "\u001b[1;31mNameError\u001b[0m                                 Traceback (most recent call last)",
      "\u001b[1;32mC:\\Users\\PRESTO~1\\AppData\\Local\\Temp/ipykernel_28564/3893592749.py\u001b[0m in \u001b[0;36m<module>\u001b[1;34m\u001b[0m\n\u001b[0;32m      2\u001b[0m \u001b[0mloss_surface\u001b[0m \u001b[1;33m=\u001b[0m \u001b[0mLossSurface\u001b[0m\u001b[1;33m(\u001b[0m\u001b[0mmodel\u001b[0m\u001b[1;33m,\u001b[0m \u001b[0mX_train\u001b[0m\u001b[1;33m,\u001b[0m \u001b[0my_train\u001b[0m\u001b[1;33m)\u001b[0m\u001b[1;33m\u001b[0m\u001b[1;33m\u001b[0m\u001b[0m\n\u001b[0;32m      3\u001b[0m \u001b[0mloss_surface\u001b[0m\u001b[1;33m.\u001b[0m\u001b[0mcompile\u001b[0m\u001b[1;33m(\u001b[0m\u001b[0mpoints\u001b[0m\u001b[1;33m=\u001b[0m\u001b[1;36m30\u001b[0m\u001b[1;33m,\u001b[0m \u001b[0mcoords\u001b[0m\u001b[1;33m=\u001b[0m\u001b[0mpcoords\u001b[0m\u001b[1;33m,\u001b[0m \u001b[0mrange\u001b[0m\u001b[1;33m=\u001b[0m\u001b[1;36m0.4\u001b[0m\u001b[1;33m)\u001b[0m\u001b[1;33m\u001b[0m\u001b[1;33m\u001b[0m\u001b[0m\n\u001b[1;32m----> 4\u001b[1;33m \u001b[0max\u001b[0m \u001b[1;33m=\u001b[0m \u001b[0mloss_surface\u001b[0m\u001b[1;33m.\u001b[0m\u001b[0mplot\u001b[0m\u001b[1;33m(\u001b[0m\u001b[0mdpi\u001b[0m\u001b[1;33m=\u001b[0m\u001b[1;36m150\u001b[0m\u001b[1;33m)\u001b[0m\u001b[1;33m\u001b[0m\u001b[1;33m\u001b[0m\u001b[0m\n\u001b[0m\u001b[0;32m      5\u001b[0m \u001b[0mplot_training_path\u001b[0m\u001b[1;33m(\u001b[0m\u001b[0mpcoords\u001b[0m\u001b[1;33m,\u001b[0m \u001b[0mtraining_path\u001b[0m\u001b[1;33m,\u001b[0m \u001b[0max\u001b[0m\u001b[1;33m)\u001b[0m\u001b[1;33m\u001b[0m\u001b[1;33m\u001b[0m\u001b[0m\n",
      "\u001b[1;32mC:\\Users\\PRESTO~1\\AppData\\Local\\Temp/ipykernel_28564/1987698853.py\u001b[0m in \u001b[0;36mplot\u001b[1;34m(self, range, points, levels, ax, **kwargs)\u001b[0m\n\u001b[0;32m     80\u001b[0m             \u001b[0mcmap\u001b[0m\u001b[1;33m=\u001b[0m\u001b[1;34m\"magma\"\u001b[0m\u001b[1;33m,\u001b[0m\u001b[1;33m\u001b[0m\u001b[1;33m\u001b[0m\u001b[0m\n\u001b[0;32m     81\u001b[0m             \u001b[0mlinewidths\u001b[0m\u001b[1;33m=\u001b[0m\u001b[1;36m0.75\u001b[0m\u001b[1;33m,\u001b[0m\u001b[1;33m\u001b[0m\u001b[1;33m\u001b[0m\u001b[0m\n\u001b[1;32m---> 82\u001b[1;33m             \u001b[0mnorm\u001b[0m\u001b[1;33m=\u001b[0m\u001b[0mmatplotlib\u001b[0m\u001b[1;33m.\u001b[0m\u001b[0mcolors\u001b[0m\u001b[1;33m.\u001b[0m\u001b[0mLogNorm\u001b[0m\u001b[1;33m(\u001b[0m\u001b[0mvmin\u001b[0m\u001b[1;33m=\u001b[0m\u001b[0mmin_loss\u001b[0m\u001b[1;33m,\u001b[0m \u001b[0mvmax\u001b[0m\u001b[1;33m=\u001b[0m\u001b[0mmax_loss\u001b[0m \u001b[1;33m*\u001b[0m \u001b[1;36m2.0\u001b[0m\u001b[1;33m)\u001b[0m\u001b[1;33m,\u001b[0m\u001b[1;33m\u001b[0m\u001b[1;33m\u001b[0m\u001b[0m\n\u001b[0m\u001b[0;32m     83\u001b[0m         )\n\u001b[0;32m     84\u001b[0m         \u001b[0max\u001b[0m\u001b[1;33m.\u001b[0m\u001b[0mclabel\u001b[0m\u001b[1;33m(\u001b[0m\u001b[0mCS\u001b[0m\u001b[1;33m,\u001b[0m \u001b[0minline\u001b[0m\u001b[1;33m=\u001b[0m\u001b[1;32mTrue\u001b[0m\u001b[1;33m,\u001b[0m \u001b[0mfontsize\u001b[0m\u001b[1;33m=\u001b[0m\u001b[1;36m8\u001b[0m\u001b[1;33m,\u001b[0m \u001b[0mfmt\u001b[0m\u001b[1;33m=\u001b[0m\u001b[1;34m\"%1.2f\"\u001b[0m\u001b[1;33m)\u001b[0m\u001b[1;33m\u001b[0m\u001b[1;33m\u001b[0m\u001b[0m\n",
      "\u001b[1;31mNameError\u001b[0m: name 'matplotlib' is not defined"
     ]
    },
    {
     "data": {
      "image/png": "[encoded data removed]",
      "text/plain": [
       "<Figure size 900x600 with 1 Axes>"
      ]
     },
     "metadata": {
      "needs_background": "light"
     },
     "output_type": "display_data"
    }
   ],
   "source": [
    "pcoords = PCACoordinates(training_path)\n",
    "loss_surface = LossSurface(model, X_train, y_train)\n",
    "loss_surface.compile(points=30, coords=pcoords, range=0.4)\n",
    "ax = loss_surface.plot(dpi=150)\n",
    "plot_training_path(pcoords, training_path, ax)"
   ]
  }
 ],
 "metadata": {
  "accelerator": "GPU",
  "colab": {
   "authorship_tag": "ABX9TyPii+lKSm45+LVQuiokWHIX",
   "collapsed_sections": [],
   "name": "CIFAR-10 Class Example.ipynb",
   "provenance": []
  },
  "kernelspec": {
   "display_name": "Python 3 (ipykernel)",
   "language": "python",
   "name": "python3"
  },
  "language_info": {
   "codemirror_mode": {
    "name": "ipython",
    "version": 3
   },
   "file_extension": ".py",
   "mimetype": "text/x-python",
   "name": "python",
   "nbconvert_exporter": "python",
   "pygments_lexer": "ipython3",
   "version": "3.9.7"
  }
 },
 "nbformat": 4,
 "nbformat_minor": 1
}
