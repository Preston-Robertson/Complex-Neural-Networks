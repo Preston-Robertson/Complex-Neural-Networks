{
 "cells": [
  {
   "cell_type": "code",
   "execution_count": 73,
   "metadata": {
    "executionInfo": {
     "elapsed": 4074,
     "status": "ok",
     "timestamp": 1646341705079,
     "user": {
      "displayName": "Haifeng Wang",
      "photoUrl": "https://lh3.googleusercontent.com/a/default-user=s64",
      "userId": "08816363594889273191"
     },
     "user_tz": 360
    },
    "id": "rMUl_LZczlCr"
   },
   "outputs": [],
   "source": [
    "import numpy as np\n",
    "import pandas as pd\n",
    "import tensorflow as tf\n",
    "from tensorflow import keras\n",
    "from tensorflow.keras import layers\n",
    "import matplotlib.pyplot as plt"
   ]
  },
  {
   "cell_type": "markdown",
   "metadata": {},
   "source": [
    "# Question 1\n",
    "In LSTM model, why sigmoid or tanh are used? Can we use ReLU to replace tanh?\n"
   ]
  },
  {
   "cell_type": "markdown",
   "metadata": {},
   "source": [
    "Exploding and Vanishing Gradient"
   ]
  },
  {
   "cell_type": "code",
   "execution_count": null,
   "metadata": {},
   "outputs": [],
   "source": []
  },
  {
   "cell_type": "markdown",
   "metadata": {},
   "source": [
    "# Question 2\n",
    "For the HW2 CIFAR-10 Base Model (provided in attached Jupyter Notebook file), let’s fix the epochs = 10. Please modify the model structure to improve the model performance based on the tips we discussed in DL 10 (target: test error lower then 0.25 in 10 epochs training). Discuss your approach.\n"
   ]
  },
  {
   "cell_type": "code",
   "execution_count": 185,
   "metadata": {
    "colab": {
     "base_uri": "https://localhost:8080/"
    },
    "executionInfo": {
     "elapsed": 6190,
     "status": "ok",
     "timestamp": 1646341713218,
     "user": {
      "displayName": "Haifeng Wang",
      "photoUrl": "https://lh3.googleusercontent.com/a/default-user=s64",
      "userId": "08816363594889273191"
     },
     "user_tz": 360
    },
    "id": "cyh1nz-1zs1Q",
    "outputId": "9587e5cf-d16d-4c0b-9587-966d9f81562f"
   },
   "outputs": [
    {
     "name": "stdout",
     "output_type": "stream",
     "text": [
      "x_train shape: (50000, 32, 32, 3) - y_train shape: (50000, 1)\n",
      "x_test shape: (10000, 32, 32, 3) - y_test shape: (10000, 1)\n"
     ]
    }
   ],
   "source": [
    "# You don't need to change this session\n",
    "um_classes = 10\n",
    "input_shape = (32, 32, 3)\n",
    "\n",
    "(X_train, y_train), (X_test, y_test) = keras.datasets.cifar10.load_data()\n",
    "\n",
    "print(\"x_train shape: {} - y_train shape: {}\".format(X_train.shape,y_train.shape))\n",
    "print(\"x_test shape: {} - y_test shape: {}\".format(X_test.shape,y_test.shape))\n",
    "\n",
    "# Scale images to the [0, 1] range\n",
    "X_train = X_train.astype(\"float32\") / 255\n",
    "X_test = X_test.astype(\"float32\") / 255\n",
    "# convert class vectors to binary class matrices\n",
    "y_train = keras.utils.to_categorical(y_train, um_classes)\n",
    "y_test = keras.utils.to_categorical(y_test, um_classes)"
   ]
  },
  {
   "cell_type": "code",
   "execution_count": 4,
   "metadata": {
    "executionInfo": {
     "elapsed": 129,
     "status": "ok",
     "timestamp": 1646341875444,
     "user": {
      "displayName": "Haifeng Wang",
      "photoUrl": "https://lh3.googleusercontent.com/a/default-user=s64",
      "userId": "08816363594889273191"
     },
     "user_tz": 360
    },
    "id": "YGR00bzQMUgw"
   },
   "outputs": [],
   "source": [
    "# customized model \n",
    "inputs = keras.Input(shape=(32, 32, 3))\n",
    "\n",
    "x=layers.Conv2D(32, kernel_size=(3, 3))(inputs)\n",
    "x=layers.Activation(\"relu\")(x)\n",
    "x=layers.MaxPooling2D(pool_size=(2, 2))(x)\n",
    "x=layers.Conv2D(64, kernel_size=(3, 3))(x)\n",
    "x=layers.Activation(\"relu\")(x)\n",
    "x=layers.MaxPooling2D(pool_size=(2, 2))(x)\n",
    "x=layers.Flatten()(x)\n",
    "\n",
    "outputs=layers.Dense(um_classes, activation=\"softmax\")(x)"
   ]
  },
  {
   "cell_type": "code",
   "execution_count": 5,
   "metadata": {
    "colab": {
     "base_uri": "https://localhost:8080/"
    },
    "executionInfo": {
     "elapsed": 133,
     "status": "ok",
     "timestamp": 1646341877631,
     "user": {
      "displayName": "Haifeng Wang",
      "photoUrl": "https://lh3.googleusercontent.com/a/default-user=s64",
      "userId": "08816363594889273191"
     },
     "user_tz": 360
    },
    "id": "fTBZ6vdQnY5I",
    "outputId": "26987252-2441-4463-c3bb-0b008e3e4832"
   },
   "outputs": [
    {
     "name": "stdout",
     "output_type": "stream",
     "text": [
      "Model: \"model\"\n",
      "_________________________________________________________________\n",
      " Layer (type)                Output Shape              Param #   \n",
      "=================================================================\n",
      " input_1 (InputLayer)        [(None, 32, 32, 3)]       0         \n",
      "                                                                 \n",
      " conv2d (Conv2D)             (None, 30, 30, 32)        896       \n",
      "                                                                 \n",
      " activation (Activation)     (None, 30, 30, 32)        0         \n",
      "                                                                 \n",
      " max_pooling2d (MaxPooling2D  (None, 15, 15, 32)       0         \n",
      " )                                                               \n",
      "                                                                 \n",
      " conv2d_1 (Conv2D)           (None, 13, 13, 64)        18496     \n",
      "                                                                 \n",
      " activation_1 (Activation)   (None, 13, 13, 64)        0         \n",
      "                                                                 \n",
      " max_pooling2d_1 (MaxPooling  (None, 6, 6, 64)         0         \n",
      " 2D)                                                             \n",
      "                                                                 \n",
      " flatten (Flatten)           (None, 2304)              0         \n",
      "                                                                 \n",
      " dense (Dense)               (None, 10)                23050     \n",
      "                                                                 \n",
      "=================================================================\n",
      "Total params: 42,442\n",
      "Trainable params: 42,442\n",
      "Non-trainable params: 0\n",
      "_________________________________________________________________\n"
     ]
    }
   ],
   "source": [
    "model_customized=keras.Model(inputs,outputs)\n",
    "model_customized.compile(loss=\"categorical_crossentropy\", optimizer=\"adam\", metrics=[\"accuracy\"])\n",
    "model_customized.summary()"
   ]
  },
  {
   "cell_type": "code",
   "execution_count": 6,
   "metadata": {
    "colab": {
     "base_uri": "https://localhost:8080/"
    },
    "executionInfo": {
     "elapsed": 55073,
     "status": "ok",
     "timestamp": 1646341935484,
     "user": {
      "displayName": "Haifeng Wang",
      "photoUrl": "https://lh3.googleusercontent.com/a/default-user=s64",
      "userId": "08816363594889273191"
     },
     "user_tz": 360
    },
    "id": "foByGLW3Q2PP",
    "outputId": "15d3d041-0e33-41f0-a9ed-16adff6d09ec"
   },
   "outputs": [
    {
     "name": "stdout",
     "output_type": "stream",
     "text": [
      "Epoch 1/10\n",
      "1250/1250 [==============================] - 30s 23ms/step - loss: 1.5095 - accuracy: 0.4600 - val_loss: 1.3016 - val_accuracy: 0.5385\n",
      "Epoch 2/10\n",
      "1250/1250 [==============================] - 29s 23ms/step - loss: 1.1777 - accuracy: 0.5902 - val_loss: 1.1064 - val_accuracy: 0.6173\n",
      "Epoch 3/10\n",
      "1250/1250 [==============================] - 28s 23ms/step - loss: 1.0410 - accuracy: 0.6405 - val_loss: 1.0683 - val_accuracy: 0.6364\n",
      "Epoch 4/10\n",
      "1250/1250 [==============================] - 31s 25ms/step - loss: 0.9558 - accuracy: 0.6695 - val_loss: 0.9883 - val_accuracy: 0.6626\n",
      "Epoch 5/10\n",
      "1250/1250 [==============================] - 25s 20ms/step - loss: 0.8957 - accuracy: 0.6905 - val_loss: 0.9777 - val_accuracy: 0.6673\n",
      "Epoch 6/10\n",
      "1250/1250 [==============================] - 34s 27ms/step - loss: 0.8447 - accuracy: 0.7111 - val_loss: 0.9909 - val_accuracy: 0.6579\n",
      "Epoch 7/10\n",
      "1250/1250 [==============================] - 30s 24ms/step - loss: 0.8068 - accuracy: 0.7234 - val_loss: 0.9583 - val_accuracy: 0.6789\n",
      "Epoch 8/10\n",
      "1250/1250 [==============================] - 30s 24ms/step - loss: 0.7736 - accuracy: 0.7329 - val_loss: 0.9539 - val_accuracy: 0.6759\n",
      "Epoch 9/10\n",
      "1250/1250 [==============================] - 35s 28ms/step - loss: 0.7379 - accuracy: 0.7469 - val_loss: 0.9866 - val_accuracy: 0.6697\n",
      "Epoch 10/10\n",
      "1250/1250 [==============================] - 31s 25ms/step - loss: 0.7172 - accuracy: 0.7529 - val_loss: 0.9502 - val_accuracy: 0.6771\n"
     ]
    }
   ],
   "source": [
    "history = model_customized.fit(X_train, y_train, epochs=10, batch_size=32, validation_split=0.2, verbose=1)"
   ]
  },
  {
   "cell_type": "code",
   "execution_count": 7,
   "metadata": {
    "colab": {
     "base_uri": "https://localhost:8080/"
    },
    "executionInfo": {
     "elapsed": 1591,
     "status": "ok",
     "timestamp": 1646342005177,
     "user": {
      "displayName": "Haifeng Wang",
      "photoUrl": "https://lh3.googleusercontent.com/a/default-user=s64",
      "userId": "08816363594889273191"
     },
     "user_tz": 360
    },
    "id": "7c8tIPA_BJ9w",
    "outputId": "29b0075a-6c75-4235-fc36-23f630795acf"
   },
   "outputs": [
    {
     "name": "stdout",
     "output_type": "stream",
     "text": [
      "Test loss: 0.9651193618774414\n",
      "Test error: 0.31849998235702515\n"
     ]
    }
   ],
   "source": [
    "score = model_customized.evaluate(X_test, y_test, verbose=0)\n",
    "print(\"Test loss:\", score[0])\n",
    "print(\"Test error:\", 1-score[1])"
   ]
  },
  {
   "cell_type": "code",
   "execution_count": 186,
   "metadata": {},
   "outputs": [],
   "source": [
    "# customized model \n",
    "inputs = keras.Input(shape=(32, 32, 3))\n",
    "\n",
    "x=layers.Conv2D(64, kernel_size=(3, 3),kernel_initializer='he_normal')(inputs)\n",
    "x=layers.Activation(\"relu\")(x)\n",
    "x=layers.BatchNormalization()(x)\n",
    "#x=layers.Dropout(0.1)(x)\n",
    "x=layers.MaxPooling2D(pool_size=(2, 2))(x)\n",
    "x=layers.Conv2D(128, kernel_size=(3, 3),kernel_initializer='he_normal')(x)\n",
    "x=layers.Activation(\"relu\")(x)\n",
    "x=layers.BatchNormalization()(x)\n",
    "#x=layers.Dropout(0.1)(x)\n",
    "x=layers.Conv2D(128*2, kernel_size=(3, 3),kernel_initializer='he_normal')(x)\n",
    "x=layers.Activation(\"relu\")(x)\n",
    "x=layers.BatchNormalization()(x)\n",
    "x=layers.Conv2D((128*2)*2, kernel_size=(3, 3),kernel_initializer='he_normal')(x)\n",
    "x=layers.Activation(\"relu\")(x)\n",
    "x=layers.BatchNormalization()(x)\n",
    "x=layers.Conv2D((128*2)*4, kernel_size=(3, 3),kernel_initializer='he_normal')(x)\n",
    "x=layers.Activation(\"relu\")(x)\n",
    "x=layers.BatchNormalization()(x)\n",
    "#x=layers.Dropout(0.1)(x)\n",
    "x=layers.MaxPooling2D(pool_size=(2, 2))(x)\n",
    "x=layers.Flatten()(x)\n",
    "x=layers.Dense((128*2)*4, activation='relu')(x)\n",
    "x=layers.Dense((128*2)*2, activation='relu')(x)\n",
    "x=layers.Dense(128*2, activation='relu')(x)\n",
    "x=layers.Dense(128, activation='relu')(x)\n",
    "x=layers.Dense(64, activation='relu')(x)\n",
    "x=layers.Dense(32, activation='relu')(x)\n",
    "\n",
    "\n",
    "outputs=layers.Dense(um_classes, activation=\"softmax\")(x)"
   ]
  },
  {
   "cell_type": "code",
   "execution_count": 187,
   "metadata": {},
   "outputs": [
    {
     "name": "stdout",
     "output_type": "stream",
     "text": [
      "Model: \"model_21\"\n",
      "_________________________________________________________________\n",
      " Layer (type)                Output Shape              Param #   \n",
      "=================================================================\n",
      " input_23 (InputLayer)       [(None, 32, 32, 3)]       0         \n",
      "                                                                 \n",
      " conv2d_46 (Conv2D)          (None, 30, 30, 64)        1792      \n",
      "                                                                 \n",
      " activation_46 (Activation)  (None, 30, 30, 64)        0         \n",
      "                                                                 \n",
      " batch_normalization_29 (Bat  (None, 30, 30, 64)       256       \n",
      " chNormalization)                                                \n",
      "                                                                 \n",
      " max_pooling2d_30 (MaxPoolin  (None, 15, 15, 64)       0         \n",
      " g2D)                                                            \n",
      "                                                                 \n",
      " conv2d_47 (Conv2D)          (None, 13, 13, 128)       73856     \n",
      "                                                                 \n",
      " activation_47 (Activation)  (None, 13, 13, 128)       0         \n",
      "                                                                 \n",
      " batch_normalization_30 (Bat  (None, 13, 13, 128)      512       \n",
      " chNormalization)                                                \n",
      "                                                                 \n",
      " conv2d_48 (Conv2D)          (None, 11, 11, 256)       295168    \n",
      "                                                                 \n",
      " activation_48 (Activation)  (None, 11, 11, 256)       0         \n",
      "                                                                 \n",
      " batch_normalization_31 (Bat  (None, 11, 11, 256)      1024      \n",
      " chNormalization)                                                \n",
      "                                                                 \n",
      " conv2d_49 (Conv2D)          (None, 9, 9, 512)         1180160   \n",
      "                                                                 \n",
      " activation_49 (Activation)  (None, 9, 9, 512)         0         \n",
      "                                                                 \n",
      " batch_normalization_32 (Bat  (None, 9, 9, 512)        2048      \n",
      " chNormalization)                                                \n",
      "                                                                 \n",
      " conv2d_50 (Conv2D)          (None, 7, 7, 1024)        4719616   \n",
      "                                                                 \n",
      " activation_50 (Activation)  (None, 7, 7, 1024)        0         \n",
      "                                                                 \n",
      " batch_normalization_33 (Bat  (None, 7, 7, 1024)       4096      \n",
      " chNormalization)                                                \n",
      "                                                                 \n",
      " max_pooling2d_31 (MaxPoolin  (None, 3, 3, 1024)       0         \n",
      " g2D)                                                            \n",
      "                                                                 \n",
      " flatten_15 (Flatten)        (None, 9216)              0         \n",
      "                                                                 \n",
      " dense_64 (Dense)            (None, 1024)              9438208   \n",
      "                                                                 \n",
      " dense_65 (Dense)            (None, 512)               524800    \n",
      "                                                                 \n",
      " dense_66 (Dense)            (None, 256)               131328    \n",
      "                                                                 \n",
      " dense_67 (Dense)            (None, 128)               32896     \n",
      "                                                                 \n",
      " dense_68 (Dense)            (None, 64)                8256      \n",
      "                                                                 \n",
      " dense_69 (Dense)            (None, 32)                2080      \n",
      "                                                                 \n",
      " dense_70 (Dense)            (None, 10)                330       \n",
      "                                                                 \n",
      "=================================================================\n",
      "Total params: 16,416,426\n",
      "Trainable params: 16,412,458\n",
      "Non-trainable params: 3,968\n",
      "_________________________________________________________________\n"
     ]
    }
   ],
   "source": [
    "model_customized=keras.Model(inputs,outputs)\n",
    "model_customized.compile(loss=\"categorical_crossentropy\", optimizer=\"adam\", metrics=[\"accuracy\"])\n",
    "model_customized.summary()"
   ]
  },
  {
   "cell_type": "code",
   "execution_count": 188,
   "metadata": {},
   "outputs": [
    {
     "name": "stdout",
     "output_type": "stream",
     "text": [
      "Epoch 1/10\n",
      "313/313 [==============================] - 2256s 7s/step - loss: 1.5892 - accuracy: 0.4296 - val_loss: 2.1598 - val_accuracy: 0.3444\n",
      "Epoch 2/10\n",
      "313/313 [==============================] - 2749s 9s/step - loss: 1.0890 - accuracy: 0.6191 - val_loss: 1.0291 - val_accuracy: 0.6500\n",
      "Epoch 3/10\n",
      "313/313 [==============================] - 2622s 8s/step - loss: 0.8787 - accuracy: 0.6981 - val_loss: 0.8906 - val_accuracy: 0.6984\n",
      "Epoch 4/10\n",
      "313/313 [==============================] - 2930s 9s/step - loss: 0.7286 - accuracy: 0.7516 - val_loss: 0.8564 - val_accuracy: 0.7054\n",
      "Epoch 5/10\n",
      "313/313 [==============================] - 2818s 9s/step - loss: 0.6000 - accuracy: 0.7966 - val_loss: 0.9221 - val_accuracy: 0.6957\n",
      "Epoch 6/10\n",
      "313/313 [==============================] - 2806s 9s/step - loss: 0.4810 - accuracy: 0.8375 - val_loss: 0.7857 - val_accuracy: 0.7580\n",
      "Epoch 7/10\n",
      "313/313 [==============================] - 2812s 9s/step - loss: 0.3804 - accuracy: 0.8717 - val_loss: 0.7905 - val_accuracy: 0.7654\n",
      "Epoch 8/10\n",
      "313/313 [==============================] - 2766s 9s/step - loss: 0.2834 - accuracy: 0.9024 - val_loss: 0.9268 - val_accuracy: 0.7471\n",
      "Epoch 9/10\n",
      "313/313 [==============================] - 2762s 9s/step - loss: 0.2147 - accuracy: 0.9273 - val_loss: 0.9748 - val_accuracy: 0.7508\n",
      "Epoch 10/10\n",
      "313/313 [==============================] - 2752s 9s/step - loss: 0.1665 - accuracy: 0.9444 - val_loss: 1.0380 - val_accuracy: 0.7469\n"
     ]
    }
   ],
   "source": [
    "history = model_customized.fit(X_train, y_train, epochs=10, batch_size=128, validation_split=0.2, verbose=1)"
   ]
  },
  {
   "cell_type": "code",
   "execution_count": 189,
   "metadata": {},
   "outputs": [
    {
     "name": "stdout",
     "output_type": "stream",
     "text": [
      "Test loss: 1.0632281303405762\n",
      "Test error: 0.2565000057220459\n"
     ]
    }
   ],
   "source": [
    "score = model_customized.evaluate(X_test, y_test, verbose=0)\n",
    "print(\"Test loss:\", score[0])\n",
    "print(\"Test error:\", 1-score[1])"
   ]
  },
  {
   "cell_type": "markdown",
   "metadata": {},
   "source": [
    "# Question 3"
   ]
  },
  {
   "cell_type": "code",
   "execution_count": 99,
   "metadata": {},
   "outputs": [],
   "source": [
    "df=pd.read_csv('/Users/czamiela/Library/CloudStorage/OneDrive-Personal/Industrial Engineering/DeepLearningOptimization/DL HW3/jena_climate_2009_01.csv')"
   ]
  },
  {
   "cell_type": "code",
   "execution_count": 142,
   "metadata": {},
   "outputs": [
    {
     "name": "stdout",
     "output_type": "stream",
     "text": [
      "(4464, 15)\n",
      "4176\n"
     ]
    },
    {
     "data": {
      "text/html": [
       "<div>\n",
       "<style scoped>\n",
       "    .dataframe tbody tr th:only-of-type {\n",
       "        vertical-align: middle;\n",
       "    }\n",
       "\n",
       "    .dataframe tbody tr th {\n",
       "        vertical-align: top;\n",
       "    }\n",
       "\n",
       "    .dataframe thead th {\n",
       "        text-align: right;\n",
       "    }\n",
       "</style>\n",
       "<table border=\"1\" class=\"dataframe\">\n",
       "  <thead>\n",
       "    <tr style=\"text-align: right;\">\n",
       "      <th></th>\n",
       "      <th>Date Time</th>\n",
       "      <th>p (mbar)</th>\n",
       "      <th>T (degC)</th>\n",
       "      <th>Tpot (K)</th>\n",
       "      <th>Tdew (degC)</th>\n",
       "      <th>rh (%)</th>\n",
       "      <th>VPmax (mbar)</th>\n",
       "      <th>VPact (mbar)</th>\n",
       "      <th>VPdef (mbar)</th>\n",
       "      <th>sh (g/kg)</th>\n",
       "      <th>H2OC (mmol/mol)</th>\n",
       "      <th>rho (g/m**3)</th>\n",
       "      <th>wv (m/s)</th>\n",
       "      <th>max. wv (m/s)</th>\n",
       "      <th>wd (deg)</th>\n",
       "    </tr>\n",
       "  </thead>\n",
       "  <tbody>\n",
       "    <tr>\n",
       "      <th>0</th>\n",
       "      <td>01.01.2009 00:00:00</td>\n",
       "      <td>996.52</td>\n",
       "      <td>-8.02</td>\n",
       "      <td>265.40</td>\n",
       "      <td>-8.90</td>\n",
       "      <td>93.3</td>\n",
       "      <td>3.33</td>\n",
       "      <td>3.11</td>\n",
       "      <td>0.22</td>\n",
       "      <td>1.94</td>\n",
       "      <td>3.12</td>\n",
       "      <td>1307.75</td>\n",
       "      <td>1.03</td>\n",
       "      <td>1.75</td>\n",
       "      <td>152.3</td>\n",
       "    </tr>\n",
       "    <tr>\n",
       "      <th>1</th>\n",
       "      <td>01.01.2009 00:10:00</td>\n",
       "      <td>996.52</td>\n",
       "      <td>-8.02</td>\n",
       "      <td>265.40</td>\n",
       "      <td>-8.90</td>\n",
       "      <td>93.3</td>\n",
       "      <td>3.33</td>\n",
       "      <td>3.11</td>\n",
       "      <td>0.22</td>\n",
       "      <td>1.94</td>\n",
       "      <td>3.12</td>\n",
       "      <td>1307.75</td>\n",
       "      <td>1.03</td>\n",
       "      <td>1.75</td>\n",
       "      <td>152.3</td>\n",
       "    </tr>\n",
       "    <tr>\n",
       "      <th>2</th>\n",
       "      <td>01.01.2009 00:20:00</td>\n",
       "      <td>996.57</td>\n",
       "      <td>-8.41</td>\n",
       "      <td>265.01</td>\n",
       "      <td>-9.28</td>\n",
       "      <td>93.4</td>\n",
       "      <td>3.23</td>\n",
       "      <td>3.02</td>\n",
       "      <td>0.21</td>\n",
       "      <td>1.89</td>\n",
       "      <td>3.03</td>\n",
       "      <td>1309.80</td>\n",
       "      <td>0.72</td>\n",
       "      <td>1.50</td>\n",
       "      <td>136.1</td>\n",
       "    </tr>\n",
       "    <tr>\n",
       "      <th>3</th>\n",
       "      <td>01.01.2009 00:30:00</td>\n",
       "      <td>996.53</td>\n",
       "      <td>-8.51</td>\n",
       "      <td>264.91</td>\n",
       "      <td>-9.31</td>\n",
       "      <td>93.9</td>\n",
       "      <td>3.21</td>\n",
       "      <td>3.01</td>\n",
       "      <td>0.20</td>\n",
       "      <td>1.88</td>\n",
       "      <td>3.02</td>\n",
       "      <td>1310.24</td>\n",
       "      <td>0.19</td>\n",
       "      <td>0.63</td>\n",
       "      <td>171.6</td>\n",
       "    </tr>\n",
       "    <tr>\n",
       "      <th>4</th>\n",
       "      <td>01.01.2009 00:40:00</td>\n",
       "      <td>996.51</td>\n",
       "      <td>-8.31</td>\n",
       "      <td>265.12</td>\n",
       "      <td>-9.07</td>\n",
       "      <td>94.2</td>\n",
       "      <td>3.26</td>\n",
       "      <td>3.07</td>\n",
       "      <td>0.19</td>\n",
       "      <td>1.92</td>\n",
       "      <td>3.08</td>\n",
       "      <td>1309.19</td>\n",
       "      <td>0.34</td>\n",
       "      <td>0.50</td>\n",
       "      <td>198.0</td>\n",
       "    </tr>\n",
       "  </tbody>\n",
       "</table>\n",
       "</div>"
      ],
      "text/plain": [
       "             Date Time  p (mbar)  T (degC)  Tpot (K)  Tdew (degC)  rh (%)  \\\n",
       "0  01.01.2009 00:00:00    996.52     -8.02    265.40        -8.90    93.3   \n",
       "1  01.01.2009 00:10:00    996.52     -8.02    265.40        -8.90    93.3   \n",
       "2  01.01.2009 00:20:00    996.57     -8.41    265.01        -9.28    93.4   \n",
       "3  01.01.2009 00:30:00    996.53     -8.51    264.91        -9.31    93.9   \n",
       "4  01.01.2009 00:40:00    996.51     -8.31    265.12        -9.07    94.2   \n",
       "\n",
       "   VPmax (mbar)  VPact (mbar)  VPdef (mbar)  sh (g/kg)  H2OC (mmol/mol)  \\\n",
       "0          3.33          3.11          0.22       1.94             3.12   \n",
       "1          3.33          3.11          0.22       1.94             3.12   \n",
       "2          3.23          3.02          0.21       1.89             3.03   \n",
       "3          3.21          3.01          0.20       1.88             3.02   \n",
       "4          3.26          3.07          0.19       1.92             3.08   \n",
       "\n",
       "   rho (g/m**3)  wv (m/s)  max. wv (m/s)  wd (deg)  \n",
       "0       1307.75      1.03           1.75     152.3  \n",
       "1       1307.75      1.03           1.75     152.3  \n",
       "2       1309.80      0.72           1.50     136.1  \n",
       "3       1310.24      0.19           0.63     171.6  \n",
       "4       1309.19      0.34           0.50     198.0  "
      ]
     },
     "execution_count": 142,
     "metadata": {},
     "output_type": "execute_result"
    }
   ],
   "source": [
    "print(df.shape)\n",
    "future=144\n",
    "past=df.shape[0]-(future*2)\n",
    "print(past)\n",
    "df.head()"
   ]
  },
  {
   "cell_type": "code",
   "execution_count": 162,
   "metadata": {},
   "outputs": [
    {
     "name": "stdout",
     "output_type": "stream",
     "text": [
      "(4176, 7)\n",
      "(288, 7)\n"
     ]
    },
    {
     "data": {
      "text/html": [
       "<div>\n",
       "<style scoped>\n",
       "    .dataframe tbody tr th:only-of-type {\n",
       "        vertical-align: middle;\n",
       "    }\n",
       "\n",
       "    .dataframe tbody tr th {\n",
       "        vertical-align: top;\n",
       "    }\n",
       "\n",
       "    .dataframe thead th {\n",
       "        text-align: right;\n",
       "    }\n",
       "</style>\n",
       "<table border=\"1\" class=\"dataframe\">\n",
       "  <thead>\n",
       "    <tr style=\"text-align: right;\">\n",
       "      <th></th>\n",
       "      <th>0</th>\n",
       "      <th>1</th>\n",
       "      <th>2</th>\n",
       "      <th>3</th>\n",
       "      <th>4</th>\n",
       "      <th>5</th>\n",
       "      <th>6</th>\n",
       "    </tr>\n",
       "  </thead>\n",
       "  <tbody>\n",
       "    <tr>\n",
       "      <th>0</th>\n",
       "      <td>996.52</td>\n",
       "      <td>-8.02</td>\n",
       "      <td>93.3</td>\n",
       "      <td>3.11</td>\n",
       "      <td>0.22</td>\n",
       "      <td>3.12</td>\n",
       "      <td>1307.75</td>\n",
       "    </tr>\n",
       "    <tr>\n",
       "      <th>1</th>\n",
       "      <td>996.52</td>\n",
       "      <td>-8.02</td>\n",
       "      <td>93.3</td>\n",
       "      <td>3.11</td>\n",
       "      <td>0.22</td>\n",
       "      <td>3.12</td>\n",
       "      <td>1307.75</td>\n",
       "    </tr>\n",
       "    <tr>\n",
       "      <th>2</th>\n",
       "      <td>996.57</td>\n",
       "      <td>-8.41</td>\n",
       "      <td>93.4</td>\n",
       "      <td>3.02</td>\n",
       "      <td>0.21</td>\n",
       "      <td>3.03</td>\n",
       "      <td>1309.80</td>\n",
       "    </tr>\n",
       "    <tr>\n",
       "      <th>3</th>\n",
       "      <td>996.53</td>\n",
       "      <td>-8.51</td>\n",
       "      <td>93.9</td>\n",
       "      <td>3.01</td>\n",
       "      <td>0.20</td>\n",
       "      <td>3.02</td>\n",
       "      <td>1310.24</td>\n",
       "    </tr>\n",
       "    <tr>\n",
       "      <th>4</th>\n",
       "      <td>996.51</td>\n",
       "      <td>-8.31</td>\n",
       "      <td>94.2</td>\n",
       "      <td>3.07</td>\n",
       "      <td>0.19</td>\n",
       "      <td>3.08</td>\n",
       "      <td>1309.19</td>\n",
       "    </tr>\n",
       "  </tbody>\n",
       "</table>\n",
       "</div>"
      ],
      "text/plain": [
       "        0     1     2     3     4     5        6\n",
       "0  996.52 -8.02  93.3  3.11  0.22  3.12  1307.75\n",
       "1  996.52 -8.02  93.3  3.11  0.22  3.12  1307.75\n",
       "2  996.57 -8.41  93.4  3.02  0.21  3.03  1309.80\n",
       "3  996.53 -8.51  93.9  3.01  0.20  3.02  1310.24\n",
       "4  996.51 -8.31  94.2  3.07  0.19  3.08  1309.19"
      ]
     },
     "execution_count": 162,
     "metadata": {},
     "output_type": "execute_result"
    }
   ],
   "source": [
    "training_set = df.iloc[:past, [ 1,2, 5, 7, 8, 10, 11]].values\n",
    "test_set = df.iloc[past:,[ 1,2, 5, 7, 8, 10, 11]].values\n",
    "print(training_set.shape)\n",
    "print(test_set.shape)\n",
    "pd.DataFrame(training_set).head()"
   ]
  },
  {
   "cell_type": "code",
   "execution_count": 163,
   "metadata": {},
   "outputs": [
    {
     "name": "stdout",
     "output_type": "stream",
     "text": [
      "(4032, 144, 6)\n",
      "(4032,)\n"
     ]
    }
   ],
   "source": [
    "# Feature Scaling\n",
    "sc = MinMaxScaler(feature_range = (0, 1))\n",
    "training_set_scaled = sc.fit_transform(training_set)\n",
    "# Creating a data structure with 60 time-steps and 1 output\n",
    "X_train = []\n",
    "y_train = []\n",
    "for i in range(future, past):\n",
    "    X_train.append(training_set_scaled[i-future:i, [0,2,3,4,5,6]])\n",
    "    y_train.append(training_set_scaled[i, 1])\n",
    "X_train, y_train = np.array(X_train), np.array(y_train)\n",
    "X_train = np.reshape(X_train, (X_train.shape[0], X_train.shape[1], 6))\n",
    "#y_train = np.reshape(X_train, (X_train.shape[0], X_train.shape[1], 1))\n",
    "#(740, 60, 1)\n",
    "print(X_train.shape)\n",
    "print(y_train.shape)"
   ]
  },
  {
   "cell_type": "code",
   "execution_count": 164,
   "metadata": {},
   "outputs": [
    {
     "name": "stdout",
     "output_type": "stream",
     "text": [
      "Model: \"model_19\"\n",
      "_________________________________________________________________\n",
      " Layer (type)                Output Shape              Param #   \n",
      "=================================================================\n",
      " input_21 (InputLayer)       [(None, 144, 6)]          0         \n",
      "                                                                 \n",
      " lstm_5 (LSTM)               (None, 32)                4992      \n",
      "                                                                 \n",
      " dense_56 (Dense)            (None, 1)                 33        \n",
      "                                                                 \n",
      "=================================================================\n",
      "Total params: 5,025\n",
      "Trainable params: 5,025\n",
      "Non-trainable params: 0\n",
      "_________________________________________________________________\n"
     ]
    }
   ],
   "source": [
    "inputs = keras.layers.Input(shape=(X_train.shape[1], X_train.shape[2]))\n",
    "lstm_out = keras.layers.LSTM(32)(inputs)\n",
    "outputs = keras.layers.Dense(1)(lstm_out)\n",
    "\n",
    "model = keras.Model(inputs=inputs, outputs=outputs)\n",
    "model.compile(optimizer=keras.optimizers.Adam(learning_rate=learning_rate), loss=\"mse\")\n",
    "model.summary()"
   ]
  },
  {
   "cell_type": "code",
   "execution_count": 170,
   "metadata": {},
   "outputs": [
    {
     "name": "stdout",
     "output_type": "stream",
     "text": [
      "Epoch 1/100\n",
      "126/126 [==============================] - 4s 35ms/step - loss: 0.0016\n",
      "Epoch 2/100\n",
      "126/126 [==============================] - 4s 31ms/step - loss: 0.0010\n",
      "Epoch 3/100\n",
      "126/126 [==============================] - 4s 28ms/step - loss: 7.1798e-04\n",
      "Epoch 4/100\n",
      "126/126 [==============================] - 4s 30ms/step - loss: 5.7148e-04\n",
      "Epoch 5/100\n",
      "126/126 [==============================] - 4s 29ms/step - loss: 4.3958e-04\n",
      "Epoch 6/100\n",
      "126/126 [==============================] - 4s 29ms/step - loss: 3.6049e-04\n",
      "Epoch 7/100\n",
      "126/126 [==============================] - 4s 29ms/step - loss: 2.9686e-04\n",
      "Epoch 8/100\n",
      "126/126 [==============================] - 4s 29ms/step - loss: 2.6663e-04\n",
      "Epoch 9/100\n",
      "126/126 [==============================] - 4s 30ms/step - loss: 2.5453e-04\n",
      "Epoch 10/100\n",
      "126/126 [==============================] - 4s 30ms/step - loss: 2.1998e-04\n",
      "Epoch 11/100\n",
      "126/126 [==============================] - 4s 29ms/step - loss: 2.0682e-04\n",
      "Epoch 12/100\n",
      "126/126 [==============================] - 4s 29ms/step - loss: 1.9255e-04\n",
      "Epoch 13/100\n",
      "126/126 [==============================] - 4s 29ms/step - loss: 1.9086e-04\n",
      "Epoch 14/100\n",
      "126/126 [==============================] - 4s 29ms/step - loss: 1.8317e-04\n",
      "Epoch 15/100\n",
      "126/126 [==============================] - 4s 29ms/step - loss: 1.7590e-04\n",
      "Epoch 16/100\n",
      "126/126 [==============================] - 4s 32ms/step - loss: 1.6131e-04\n",
      "Epoch 17/100\n",
      "126/126 [==============================] - 5s 38ms/step - loss: 1.6100e-04\n",
      "Epoch 18/100\n",
      "126/126 [==============================] - 4s 30ms/step - loss: 1.5361e-04\n",
      "Epoch 19/100\n",
      "126/126 [==============================] - 4s 33ms/step - loss: 1.4517e-04\n",
      "Epoch 20/100\n",
      "126/126 [==============================] - 4s 31ms/step - loss: 1.3938e-04\n",
      "Epoch 21/100\n",
      "126/126 [==============================] - 4s 29ms/step - loss: 1.4907e-04\n",
      "Epoch 22/100\n",
      "126/126 [==============================] - 4s 29ms/step - loss: 1.4384e-04\n",
      "Epoch 23/100\n",
      "126/126 [==============================] - 4s 29ms/step - loss: 1.3309e-04\n",
      "Epoch 24/100\n",
      "126/126 [==============================] - 4s 30ms/step - loss: 1.3637e-04\n",
      "Epoch 25/100\n",
      "126/126 [==============================] - 5s 37ms/step - loss: 1.2243e-04\n",
      "Epoch 26/100\n",
      "126/126 [==============================] - 4s 34ms/step - loss: 1.2804e-04\n",
      "Epoch 27/100\n",
      "126/126 [==============================] - 4s 31ms/step - loss: 1.3879e-04\n",
      "Epoch 28/100\n",
      "126/126 [==============================] - 5s 36ms/step - loss: 1.2122e-04\n",
      "Epoch 29/100\n",
      "126/126 [==============================] - 4s 30ms/step - loss: 1.1407e-04\n",
      "Epoch 30/100\n",
      "126/126 [==============================] - 4s 30ms/step - loss: 1.2243e-04\n",
      "Epoch 31/100\n",
      "126/126 [==============================] - 4s 29ms/step - loss: 1.0987e-04\n",
      "Epoch 32/100\n",
      "126/126 [==============================] - 4s 30ms/step - loss: 1.0813e-04\n",
      "Epoch 33/100\n",
      "126/126 [==============================] - 5s 40ms/step - loss: 1.0957e-04\n",
      "Epoch 34/100\n",
      "126/126 [==============================] - 4s 32ms/step - loss: 1.0942e-04\n",
      "Epoch 35/100\n",
      "126/126 [==============================] - 4s 31ms/step - loss: 1.0064e-04\n",
      "Epoch 36/100\n",
      "126/126 [==============================] - 5s 38ms/step - loss: 1.0553e-04\n",
      "Epoch 37/100\n",
      "126/126 [==============================] - 4s 31ms/step - loss: 9.9164e-05\n",
      "Epoch 38/100\n",
      "126/126 [==============================] - 4s 32ms/step - loss: 9.4822e-05\n",
      "Epoch 39/100\n",
      "126/126 [==============================] - 4s 30ms/step - loss: 9.9279e-05\n",
      "Epoch 40/100\n",
      "126/126 [==============================] - 4s 32ms/step - loss: 1.0160e-04\n",
      "Epoch 41/100\n",
      "126/126 [==============================] - 4s 30ms/step - loss: 1.0065e-04\n",
      "Epoch 42/100\n",
      "126/126 [==============================] - 3s 27ms/step - loss: 1.0739e-04\n",
      "Epoch 43/100\n",
      "126/126 [==============================] - 3s 28ms/step - loss: 9.7078e-05\n",
      "Epoch 44/100\n",
      "126/126 [==============================] - 4s 30ms/step - loss: 9.6007e-05\n",
      "Epoch 45/100\n",
      "126/126 [==============================] - 4s 32ms/step - loss: 8.5271e-05\n",
      "Epoch 46/100\n",
      "126/126 [==============================] - 5s 42ms/step - loss: 8.3865e-05\n",
      "Epoch 47/100\n",
      "126/126 [==============================] - 5s 37ms/step - loss: 8.0361e-05\n",
      "Epoch 48/100\n",
      "126/126 [==============================] - 4s 32ms/step - loss: 8.7091e-05\n",
      "Epoch 49/100\n",
      "126/126 [==============================] - 5s 37ms/step - loss: 9.1262e-05\n",
      "Epoch 50/100\n",
      "126/126 [==============================] - 5s 40ms/step - loss: 7.6902e-05\n",
      "Epoch 51/100\n",
      "126/126 [==============================] - 4s 31ms/step - loss: 7.7581e-05\n",
      "Epoch 52/100\n",
      "126/126 [==============================] - 4s 29ms/step - loss: 8.7224e-05\n",
      "Epoch 53/100\n",
      "126/126 [==============================] - 5s 41ms/step - loss: 8.5811e-05\n",
      "Epoch 54/100\n",
      "126/126 [==============================] - 5s 37ms/step - loss: 8.8873e-05\n",
      "Epoch 55/100\n",
      "126/126 [==============================] - 5s 37ms/step - loss: 7.9695e-05\n",
      "Epoch 56/100\n",
      "126/126 [==============================] - 4s 29ms/step - loss: 7.1526e-05\n",
      "Epoch 57/100\n",
      "126/126 [==============================] - 4s 34ms/step - loss: 6.8171e-05\n",
      "Epoch 58/100\n",
      "126/126 [==============================] - 4s 34ms/step - loss: 7.1961e-05\n",
      "Epoch 59/100\n",
      "126/126 [==============================] - 4s 29ms/step - loss: 7.7704e-05\n",
      "Epoch 60/100\n",
      "126/126 [==============================] - 4s 29ms/step - loss: 7.9978e-05\n",
      "Epoch 61/100\n",
      "126/126 [==============================] - 4s 34ms/step - loss: 7.1749e-05\n",
      "Epoch 62/100\n",
      "126/126 [==============================] - 5s 37ms/step - loss: 7.2677e-05\n",
      "Epoch 63/100\n",
      "126/126 [==============================] - 6s 44ms/step - loss: 6.8616e-05\n",
      "Epoch 64/100\n",
      "126/126 [==============================] - 4s 31ms/step - loss: 7.7764e-05\n",
      "Epoch 65/100\n",
      "126/126 [==============================] - 5s 39ms/step - loss: 6.1703e-05\n",
      "Epoch 66/100\n",
      "126/126 [==============================] - 5s 35ms/step - loss: 6.6885e-05\n",
      "Epoch 67/100\n",
      "126/126 [==============================] - 4s 30ms/step - loss: 7.2225e-05\n",
      "Epoch 68/100\n",
      "126/126 [==============================] - 4s 29ms/step - loss: 6.3112e-05\n",
      "Epoch 69/100\n",
      "126/126 [==============================] - 4s 32ms/step - loss: 5.8984e-05\n",
      "Epoch 70/100\n",
      "126/126 [==============================] - 4s 35ms/step - loss: 6.1155e-05\n",
      "Epoch 71/100\n",
      "126/126 [==============================] - 4s 33ms/step - loss: 6.0436e-05\n",
      "Epoch 72/100\n",
      "126/126 [==============================] - 5s 36ms/step - loss: 5.7075e-05\n",
      "Epoch 73/100\n",
      "126/126 [==============================] - 5s 37ms/step - loss: 6.0183e-05\n",
      "Epoch 74/100\n",
      "126/126 [==============================] - 6s 44ms/step - loss: 6.0527e-05\n",
      "Epoch 75/100\n",
      "126/126 [==============================] - 5s 36ms/step - loss: 6.1163e-05\n",
      "Epoch 76/100\n",
      "126/126 [==============================] - 4s 31ms/step - loss: 6.5872e-05\n",
      "Epoch 77/100\n",
      "126/126 [==============================] - 5s 40ms/step - loss: 6.1352e-05\n",
      "Epoch 78/100\n",
      "126/126 [==============================] - 4s 35ms/step - loss: 5.3431e-05\n",
      "Epoch 79/100\n",
      "126/126 [==============================] - 5s 37ms/step - loss: 5.6643e-05\n",
      "Epoch 80/100\n",
      "126/126 [==============================] - 4s 34ms/step - loss: 5.8489e-05\n",
      "Epoch 81/100\n",
      "126/126 [==============================] - 4s 32ms/step - loss: 5.6172e-05\n",
      "Epoch 82/100\n",
      "126/126 [==============================] - 4s 36ms/step - loss: 5.6971e-05\n",
      "Epoch 83/100\n",
      "126/126 [==============================] - 5s 40ms/step - loss: 5.1178e-05\n",
      "Epoch 84/100\n",
      "126/126 [==============================] - 5s 39ms/step - loss: 5.3295e-05\n",
      "Epoch 85/100\n",
      "126/126 [==============================] - 4s 35ms/step - loss: 6.0166e-05\n",
      "Epoch 86/100\n",
      "126/126 [==============================] - 5s 38ms/step - loss: 5.0064e-05\n",
      "Epoch 87/100\n",
      "126/126 [==============================] - 5s 37ms/step - loss: 5.3274e-05\n",
      "Epoch 88/100\n",
      "126/126 [==============================] - 4s 30ms/step - loss: 5.7491e-05\n",
      "Epoch 89/100\n",
      "126/126 [==============================] - 4s 30ms/step - loss: 5.6775e-05\n",
      "Epoch 90/100\n",
      "126/126 [==============================] - 4s 28ms/step - loss: 5.1093e-05\n",
      "Epoch 91/100\n",
      "126/126 [==============================] - 5s 41ms/step - loss: 4.7634e-05\n",
      "Epoch 92/100\n",
      "126/126 [==============================] - 5s 40ms/step - loss: 4.7672e-05\n",
      "Epoch 93/100\n",
      "126/126 [==============================] - 4s 35ms/step - loss: 5.0461e-05\n",
      "Epoch 94/100\n",
      "126/126 [==============================] - 5s 36ms/step - loss: 4.9148e-05\n",
      "Epoch 95/100\n",
      "126/126 [==============================] - 5s 37ms/step - loss: 5.0918e-05\n",
      "Epoch 96/100\n",
      "126/126 [==============================] - 4s 32ms/step - loss: 5.4836e-05\n",
      "Epoch 97/100\n",
      "126/126 [==============================] - 4s 31ms/step - loss: 5.1321e-05\n",
      "Epoch 98/100\n",
      "126/126 [==============================] - 4s 30ms/step - loss: 4.6389e-05\n",
      "Epoch 99/100\n",
      "126/126 [==============================] - 4s 29ms/step - loss: 5.0208e-05\n",
      "Epoch 100/100\n",
      "126/126 [==============================] - 4s 31ms/step - loss: 4.8319e-05\n"
     ]
    }
   ],
   "source": [
    "# Fitting the RNN to the Training set\n",
    "history=model.fit(X_train, y_train, epochs = 100, batch_size = 32)"
   ]
  },
  {
   "cell_type": "code",
   "execution_count": 177,
   "metadata": {},
   "outputs": [
    {
     "name": "stdout",
     "output_type": "stream",
     "text": [
      "(144, 144, 6)\n",
      "(144, 1)\n"
     ]
    }
   ],
   "source": [
    "X_test=[]\n",
    "y_test=[]\n",
    "test_set=sc.transform(test_set)\n",
    "for i in range(future, future*2):\n",
    "    X_test.append(test_set[i-future:i, [0,2,3,4,5,6]])\n",
    "    y_test.append(test_set[i, 1])\n",
    "X_test = np.array(X_test)\n",
    "y_test = np.array(y_test).reshape(144,1)\n",
    "X_test = np.reshape(X_test, (X_test.shape[0], X_test.shape[1], 6))\n",
    "#y_test = np.reshape(y_test, (y_test.shape[0], y_test.shape[1]))\n",
    "print(X_test.shape)\n",
    "print(y_test.shape)"
   ]
  },
  {
   "cell_type": "code",
   "execution_count": 178,
   "metadata": {},
   "outputs": [
    {
     "data": {
      "text/plain": [
       "(144, 1)"
      ]
     },
     "execution_count": 178,
     "metadata": {},
     "output_type": "execute_result"
    }
   ],
   "source": [
    "#X_test=test_set[:,[0,2,3,4,5,6]].reshape(144,144,6)\n",
    "#y_test=test_set[:,1].reshape(144,144,1)\n",
    "y_pred=model.predict(X_test)\n",
    "y_pred.shape"
   ]
  },
  {
   "cell_type": "code",
   "execution_count": 181,
   "metadata": {},
   "outputs": [
    {
     "data": {
      "image/png": "[encoded data removed]",
      "text/plain": [
       "<Figure size 432x288 with 1 Axes>"
      ]
     },
     "metadata": {
      "needs_background": "light"
     },
     "output_type": "display_data"
    }
   ],
   "source": [
    "plt.plot(y_pred)\n",
    "plt.plot(y_test)\n",
    "plt.show()"
   ]
  },
  {
   "cell_type": "code",
   "execution_count": null,
   "metadata": {},
   "outputs": [],
   "source": []
  }
 ],
 "metadata": {
  "accelerator": "GPU",
  "colab": {
   "authorship_tag": "ABX9TyMWQ8DR0sSeXB9GQPxqoncY",
   "collapsed_sections": [],
   "name": "CIFAR-10 Example.ipynb",
   "provenance": []
  },
  "kernelspec": {
   "display_name": "Python 3 (ipykernel)",
   "language": "python",
   "name": "python3"
  },
  "language_info": {
   "codemirror_mode": {
    "name": "ipython",
    "version": 3
   },
   "file_extension": ".py",
   "mimetype": "text/x-python",
   "name": "python",
   "nbconvert_exporter": "python",
   "pygments_lexer": "ipython3",
   "version": "3.9.7"
  }
 },
 "nbformat": 4,
 "nbformat_minor": 1
}
