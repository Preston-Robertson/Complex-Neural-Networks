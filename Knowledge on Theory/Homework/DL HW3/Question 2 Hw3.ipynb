{
 "cells": [
  {
   "cell_type": "code",
   "execution_count": 1,
   "metadata": {
    "executionInfo": {
     "elapsed": 4074,
     "status": "ok",
     "timestamp": 1646341705079,
     "user": {
      "displayName": "Haifeng Wang",
      "photoUrl": "https://lh3.googleusercontent.com/a/default-user=s64",
      "userId": "08816363594889273191"
     },
     "user_tz": 360
    },
    "id": "rMUl_LZczlCr"
   },
   "outputs": [],
   "source": [
    "import numpy as np\n",
    "import tensorflow as tf\n",
    "from tensorflow import keras\n",
    "from tensorflow.keras import datasets, layers, models\n",
    "import matplotlib.pyplot as plt"
   ]
  },
  {
   "cell_type": "code",
   "execution_count": 2,
   "metadata": {},
   "outputs": [],
   "source": [
    "# Change to Markdown if GPU is not supported.\n",
    "\n",
    "\n",
    "import os\n",
    "\n",
    "os.environ[\"TF_CPP_MIN_LOG_LEVEL\"] = \"2\"\n",
    "\n",
    "physical_devices = tf.config.list_physical_devices(\"GPU\")\n",
    "tf.config.experimental.set_memory_growth(physical_devices[0], True)"
   ]
  },
  {
   "cell_type": "code",
   "execution_count": 3,
   "metadata": {
    "colab": {
     "base_uri": "https://localhost:8080/"
    },
    "executionInfo": {
     "elapsed": 6190,
     "status": "ok",
     "timestamp": 1646341713218,
     "user": {
      "displayName": "Haifeng Wang",
      "photoUrl": "https://lh3.googleusercontent.com/a/default-user=s64",
      "userId": "08816363594889273191"
     },
     "user_tz": 360
    },
    "id": "cyh1nz-1zs1Q",
    "outputId": "9587e5cf-d16d-4c0b-9587-966d9f81562f"
   },
   "outputs": [
    {
     "name": "stdout",
     "output_type": "stream",
     "text": [
      "x_train shape: (50000, 32, 32, 3) - y_train shape: (50000, 1)\n",
      "x_test shape: (10000, 32, 32, 3) - y_test shape: (10000, 1)\n"
     ]
    }
   ],
   "source": [
    "# You don't need to change this session\n",
    "um_classes = 10\n",
    "input_shape = (32, 32, 3)\n",
    "\n",
    "(X_train, y_train), (X_test, y_test) = keras.datasets.cifar10.load_data()\n",
    "\n",
    "print(\"x_train shape: {} - y_train shape: {}\".format(X_train.shape,y_train.shape))\n",
    "print(\"x_test shape: {} - y_test shape: {}\".format(X_test.shape,y_test.shape))\n",
    "\n",
    "# Scale images to the [0, 1] range\n",
    "X_train = X_train.astype(\"float32\") / 255\n",
    "X_test = X_test.astype(\"float32\") / 255\n",
    "# convert class vectors to binary class matrices\n",
    "y_train = keras.utils.to_categorical(y_train, um_classes)\n",
    "y_test = keras.utils.to_categorical(y_test, um_classes)"
   ]
  },
  {
   "cell_type": "code",
   "execution_count": 46,
   "metadata": {},
   "outputs": [],
   "source": [
    "# Designing the Custom Model\n",
    "\n",
    "\n",
    "inputs = keras.Input(shape=(32, 32, 3))\n",
    "\n",
    "x=layers.Conv2D(64, kernel_size=(3, 3))(inputs)\n",
    "x=layers.Activation(\"relu\")(x)\n",
    "x=layers.BatchNormalization()(x)\n",
    "\n",
    "x=layers.MaxPooling2D(pool_size=(2, 2))(x)\n",
    "x=layers.Conv2D(128, kernel_size=(3, 3))(x)\n",
    "x=layers.Activation(\"relu\")(x)\n",
    "x=layers.BatchNormalization()(x)\n",
    "\n",
    "x=layers.Conv2D(256, kernel_size=(3, 3))(x)\n",
    "x=layers.Activation(\"relu\")(x)\n",
    "x=layers.BatchNormalization()(x)\n",
    "\n",
    "x=layers.Conv2D(512, kernel_size=(3, 3)(x)\n",
    "x=layers.Activation(\"relu\")(x)\n",
    "x=layers.BatchNormalization()(x)\n",
    "\n",
    "x=layers.MaxPooling2D(pool_size=(2, 2))(x)\n",
    "x=layers.Flatten()(x)\n",
    "\n",
    "x=layers.Dense(512, activation='relu')(x)\n",
    "x=layers.Dense(256, activation='relu')(x)\n",
    "x=layers.Dense(128, activation='relu')(x)\n",
    "x=layers.Dense(64, activation='relu')(x)\n",
    "x=layers.Dense(32, activation='relu')(x)\n",
    "\n",
    "outputs=layers.Dense(um_classes, activation=\"softmax\")(x)"
   ]
  },
  {
   "cell_type": "code",
   "execution_count": 50,
   "metadata": {
    "colab": {
     "base_uri": "https://localhost:8080/"
    },
    "executionInfo": {
     "elapsed": 133,
     "status": "ok",
     "timestamp": 1646341877631,
     "user": {
      "displayName": "Haifeng Wang",
      "photoUrl": "https://lh3.googleusercontent.com/a/default-user=s64",
      "userId": "08816363594889273191"
     },
     "user_tz": 360
    },
    "id": "fTBZ6vdQnY5I",
    "outputId": "26987252-2441-4463-c3bb-0b008e3e4832"
   },
   "outputs": [
    {
     "name": "stdout",
     "output_type": "stream",
     "text": [
      "Model: \"model_11\"\n",
      "_________________________________________________________________\n",
      " Layer (type)                Output Shape              Param #   \n",
      "=================================================================\n",
      " input_12 (InputLayer)       [(None, 32, 32, 3)]       0         \n",
      "                                                                 \n",
      " conv2d_43 (Conv2D)          (None, 30, 30, 64)        1792      \n",
      "                                                                 \n",
      " activation_46 (Activation)  (None, 30, 30, 64)        0         \n",
      "                                                                 \n",
      " batch_normalization_40 (Bat  (None, 30, 30, 64)       256       \n",
      " chNormalization)                                                \n",
      "                                                                 \n",
      " max_pooling2d_25 (MaxPoolin  (None, 15, 15, 64)       0         \n",
      " g2D)                                                            \n",
      "                                                                 \n",
      " conv2d_44 (Conv2D)          (None, 13, 13, 128)       73856     \n",
      "                                                                 \n",
      " activation_47 (Activation)  (None, 13, 13, 128)       0         \n",
      "                                                                 \n",
      " batch_normalization_41 (Bat  (None, 13, 13, 128)      512       \n",
      " chNormalization)                                                \n",
      "                                                                 \n",
      " conv2d_45 (Conv2D)          (None, 11, 11, 256)       295168    \n",
      "                                                                 \n",
      " activation_48 (Activation)  (None, 11, 11, 256)       0         \n",
      "                                                                 \n",
      " batch_normalization_42 (Bat  (None, 11, 11, 256)      1024      \n",
      " chNormalization)                                                \n",
      "                                                                 \n",
      " conv2d_46 (Conv2D)          (None, 9, 9, 512)         1180160   \n",
      "                                                                 \n",
      " activation_49 (Activation)  (None, 9, 9, 512)         0         \n",
      "                                                                 \n",
      " batch_normalization_43 (Bat  (None, 9, 9, 512)        2048      \n",
      " chNormalization)                                                \n",
      "                                                                 \n",
      " max_pooling2d_26 (MaxPoolin  (None, 4, 4, 512)        0         \n",
      " g2D)                                                            \n",
      "                                                                 \n",
      " flatten_11 (Flatten)        (None, 8192)              0         \n",
      "                                                                 \n",
      " dense_62 (Dense)            (None, 512)               4194816   \n",
      "                                                                 \n",
      " dense_63 (Dense)            (None, 256)               131328    \n",
      "                                                                 \n",
      " dense_64 (Dense)            (None, 128)               32896     \n",
      "                                                                 \n",
      " dense_65 (Dense)            (None, 64)                8256      \n",
      "                                                                 \n",
      " dense_66 (Dense)            (None, 32)                2080      \n",
      "                                                                 \n",
      " dense_67 (Dense)            (None, 10)                330       \n",
      "                                                                 \n",
      "=================================================================\n",
      "Total params: 5,924,522\n",
      "Trainable params: 5,922,602\n",
      "Non-trainable params: 1,920\n",
      "_________________________________________________________________\n"
     ]
    }
   ],
   "source": [
    "# Compiling the Model\n",
    "\n",
    "\n",
    "model=keras.Model(inputs,outputs)\n",
    "model.compile(loss=\"categorical_crossentropy\", optimizer=\"adam\", metrics=[\"accuracy\"])\n",
    "model.summary()"
   ]
  },
  {
   "cell_type": "code",
   "execution_count": 51,
   "metadata": {
    "colab": {
     "base_uri": "https://localhost:8080/"
    },
    "executionInfo": {
     "elapsed": 55073,
     "status": "ok",
     "timestamp": 1646341935484,
     "user": {
      "displayName": "Haifeng Wang",
      "photoUrl": "https://lh3.googleusercontent.com/a/default-user=s64",
      "userId": "08816363594889273191"
     },
     "user_tz": 360
    },
    "id": "foByGLW3Q2PP",
    "outputId": "15d3d041-0e33-41f0-a9ed-16adff6d09ec"
   },
   "outputs": [
    {
     "name": "stdout",
     "output_type": "stream",
     "text": [
      "Epoch 1/10\n",
      "1250/1250 [==============================] - 41s 32ms/step - loss: 0.1290 - accuracy: 0.9605 - val_loss: 1.0593 - val_accuracy: 0.7571\n",
      "Epoch 2/10\n",
      "1250/1250 [==============================] - 30s 24ms/step - loss: 0.1041 - accuracy: 0.9686 - val_loss: 1.2016 - val_accuracy: 0.7411\n",
      "Epoch 3/10\n",
      "1250/1250 [==============================] - 33s 26ms/step - loss: 0.0948 - accuracy: 0.9719 - val_loss: 1.4311 - val_accuracy: 0.7143\n",
      "Epoch 4/10\n",
      "1250/1250 [==============================] - 30s 24ms/step - loss: 0.0928 - accuracy: 0.9721 - val_loss: 1.1589 - val_accuracy: 0.7588\n",
      "Epoch 5/10\n",
      "1250/1250 [==============================] - 30s 24ms/step - loss: 0.0858 - accuracy: 0.9746 - val_loss: 1.1024 - val_accuracy: 0.7541\n",
      "Epoch 6/10\n",
      "1250/1250 [==============================] - 29s 23ms/step - loss: 0.0832 - accuracy: 0.9756 - val_loss: 1.1593 - val_accuracy: 0.7472\n",
      "Epoch 7/10\n",
      "1250/1250 [==============================] - 33s 26ms/step - loss: 0.0674 - accuracy: 0.9810 - val_loss: 1.0693 - val_accuracy: 0.7667\n",
      "Epoch 8/10\n",
      "1250/1250 [==============================] - 23s 18ms/step - loss: 0.0775 - accuracy: 0.9781 - val_loss: 1.2517 - val_accuracy: 0.7567\n",
      "Epoch 9/10\n",
      "1250/1250 [==============================] - 23s 18ms/step - loss: 0.0720 - accuracy: 0.9793 - val_loss: 1.1480 - val_accuracy: 0.7464\n",
      "Epoch 10/10\n",
      "1250/1250 [==============================] - 23s 18ms/step - loss: 0.0667 - accuracy: 0.9808 - val_loss: 1.2986 - val_accuracy: 0.7397\n"
     ]
    }
   ],
   "source": [
    "# Fitting the Model\n",
    "\n",
    "\n",
    "history = model.fit(X_train, y_train, epochs=10, batch_size=32, validation_split=0.2, verbose=1)"
   ]
  },
  {
   "cell_type": "code",
   "execution_count": 52,
   "metadata": {
    "colab": {
     "base_uri": "https://localhost:8080/"
    },
    "executionInfo": {
     "elapsed": 1591,
     "status": "ok",
     "timestamp": 1646342005177,
     "user": {
      "displayName": "Haifeng Wang",
      "photoUrl": "https://lh3.googleusercontent.com/a/default-user=s64",
      "userId": "08816363594889273191"
     },
     "user_tz": 360
    },
    "id": "7c8tIPA_BJ9w",
    "outputId": "29b0075a-6c75-4235-fc36-23f630795acf"
   },
   "outputs": [
    {
     "name": "stdout",
     "output_type": "stream",
     "text": [
      "Test loss: 1.3165239095687866\n",
      "Test error: 0.25950002670288086\n"
     ]
    }
   ],
   "source": [
    "# Final Scores\n",
    "\n",
    "\n",
    "score = model.evaluate(X_test, y_test, verbose=0)\n",
    "print(\"Test loss:\", score[0])\n",
    "print(\"Test error:\", 1-score[1])"
   ]
  }
 ],
 "metadata": {
  "accelerator": "GPU",
  "colab": {
   "authorship_tag": "ABX9TyMWQ8DR0sSeXB9GQPxqoncY",
   "collapsed_sections": [],
   "name": "CIFAR-10 Example.ipynb",
   "provenance": []
  },
  "kernelspec": {
   "display_name": "Python 3 (ipykernel)",
   "language": "python",
   "name": "python3"
  },
  "language_info": {
   "codemirror_mode": {
    "name": "ipython",
    "version": 3
   },
   "file_extension": ".py",
   "mimetype": "text/x-python",
   "name": "python",
   "nbconvert_exporter": "python",
   "pygments_lexer": "ipython3",
   "version": "3.9.7"
  }
 },
 "nbformat": 4,
 "nbformat_minor": 1
}
